{
 "metadata": {
  "name": "",
  "signature": "sha256:f10d5730d29fa725f777ac1e096ff77ce022098f073b2bf8de314595d0355b05"
 },
 "nbformat": 3,
 "nbformat_minor": 0,
 "worksheets": [
  {
   "cells": [
    {
     "cell_type": "markdown",
     "metadata": {},
     "source": [
      "Problem Set 2: Sequence labeling\n",
      "=====================\n",
      "\n",
      "This project focuses on sequence labeling, in the target domain of Twitter part-of-speech tagging.\n",
      "Part (b) focuses on *discriminative* approaches, mainly averaged perceptron and structured perceptron.\n"
     ]
    },
    {
     "cell_type": "code",
     "collapsed": false,
     "input": [
      "from __future__ import division\n",
      "import scorer, operator\n",
      "from collections import defaultdict, Counter\n",
      "import matplotlib.pyplot as plt\n",
      "%pylab --no-import-all inline"
     ],
     "language": "python",
     "metadata": {},
     "outputs": [
      {
       "output_type": "stream",
       "stream": "stdout",
       "text": [
        "Populating the interactive namespace from numpy and matplotlib\n"
       ]
      }
     ],
     "prompt_number": 1
    },
    {
     "cell_type": "code",
     "collapsed": false,
     "input": [
      "\"\"\"\n",
      "Data processing code\n",
      "\"\"\"\n",
      "def conllSeqGenerator(input_file,max_insts=1000000):\n",
      "    \"\"\" \n",
      "    return an instance generator for a filename.\n",
      "    \n",
      "    The generator yields lists of words and tags.  \n",
      "    No need to change this\n",
      "    \"\"\"\n",
      "    cur_words = []\n",
      "    cur_tags = []\n",
      "    num_insts = 0\n",
      "    with open(input_file) as instances:\n",
      "        for line in instances:\n",
      "            if len(line.rstrip()) == 0:\n",
      "                if len(cur_words) > 0:\n",
      "                    num_insts += 1\n",
      "                    yield cur_words,cur_tags\n",
      "                    cur_words = []\n",
      "                    cur_tags = []\n",
      "            else:\n",
      "                parts = line.rstrip().split()\n",
      "                cur_words.append(parts[0])\n",
      "                if len(parts)>1:\n",
      "                    cur_tags.append(parts[1])\n",
      "                else: cur_tags.append(unknown)\n",
      "        if len(cur_words)>0: \n",
      "            num_insts += 1\n",
      "            yield cur_words,cur_tags"
     ],
     "language": "python",
     "metadata": {},
     "outputs": [],
     "prompt_number": 41
    },
    {
     "cell_type": "code",
     "collapsed": false,
     "input": [
      "## Define the file names\n",
      "trainfile = 'oct27.train'\n",
      "devfile = 'oct27.dev'\n",
      "testfile = 'oct27.test' # You do not have this for now\n",
      "unknown = \"**UNKNOWN**\""
     ],
     "language": "python",
     "metadata": {},
     "outputs": [],
     "prompt_number": 3
    },
    {
     "cell_type": "code",
     "collapsed": false,
     "input": [
      "# for convenience\n",
      "tr_all = []\n",
      "for i,(words,tags) in enumerate(conllSeqGenerator(trainfile)):\n",
      "    tr_all.append((words,tags))"
     ],
     "language": "python",
     "metadata": {},
     "outputs": [],
     "prompt_number": 4
    },
    {
     "cell_type": "code",
     "collapsed": false,
     "input": [
      "alltags = set()\n",
      "for i,(words, tags) in enumerate(tr_all):    \n",
      "    for tag in tags:\n",
      "        alltags.add(tag)\n",
      "print alltags"
     ],
     "language": "python",
     "metadata": {},
     "outputs": [
      {
       "output_type": "stream",
       "stream": "stdout",
       "text": [
        "set(['!', '#', '$', '&', ',', 'A', '@', 'E', 'D', 'G', 'M', 'L', 'O', 'N', 'P', 'S', 'R', 'U', 'T', 'V', 'Y', 'X', 'Z', '^', '~'])\n"
       ]
      }
     ],
     "prompt_number": 5
    },
    {
     "cell_type": "code",
     "collapsed": false,
     "input": [
      "start_tag = '--START--'\n",
      "end_tag = '--END--'\n",
      "trans ='--T--'\n",
      "emit = '--E--'\n",
      "offset = '--OFF--'"
     ],
     "language": "python",
     "metadata": {},
     "outputs": [],
     "prompt_number": 6
    },
    {
     "cell_type": "markdown",
     "metadata": {},
     "source": [
      "# 4. Classification-based tagging #\n",
      "\n",
      "First, you will perform tagging as classification problem."
     ]
    },
    {
     "cell_type": "markdown",
     "metadata": {},
     "source": [
      "Recall that in structured prediction, we have the feature function decompose:\n",
      "\n",
      "\\begin{align}\n",
      "\\renewcommand{\\vec}[1]{\\mathbf{#1}}\n",
      "\\vec{f}(\\vec{w},\\vec{y}) & = \\sum_m \\vec{f}(\\vec{w},y_m, y_{m-1}, m)\n",
      "\\end{align}\n",
      "\n",
      "You will explicitly define your feature functions in this way -- even for the classification-based tagger, which won't consider $y_{m-1}$. The features themselves are defined as tuples, as in pset 2a.\n",
      "\n",
      "Here is a simple example:"
     ]
    },
    {
     "cell_type": "code",
     "collapsed": false,
     "input": [
      "def wordFeatures(words,tag,prev_tag,m):\n",
      "    '''\n",
      "    :param words: a list of words\n",
      "    :type words: list\n",
      "    :param tag: a tag\n",
      "    :type tag: string\n",
      "    :type prev_tag: string\n",
      "    :type m: int\n",
      "    '''\n",
      "    out = {(offset,tag):1}\n",
      "    if m < len(words): #we can have m = M, for the transition to the end state\n",
      "        out[(emit,tag,words[m])]=1\n",
      "    return out"
     ],
     "language": "python",
     "metadata": {},
     "outputs": [],
     "prompt_number": 7
    },
    {
     "cell_type": "code",
     "collapsed": false,
     "input": [
      "sent = 'they can can fish'.split()"
     ],
     "language": "python",
     "metadata": {},
     "outputs": [],
     "prompt_number": 8
    },
    {
     "cell_type": "code",
     "collapsed": false,
     "input": [
      "wordFeatures(sent,'V','V',0)"
     ],
     "language": "python",
     "metadata": {},
     "outputs": [
      {
       "metadata": {},
       "output_type": "pyout",
       "prompt_number": 9,
       "text": [
        "{('--E--', 'V', 'they'): 1, ('--OFF--', 'V'): 1}"
       ]
      }
     ],
     "prompt_number": 9
    },
    {
     "cell_type": "markdown",
     "metadata": {},
     "source": [
      "**Deliverable 4a** (1 point) Create a new feature function which also includes the final character of the current word, and the final character of the preceding word (if $m > 1$). "
     ]
    },
    {
     "cell_type": "code",
     "collapsed": false,
     "input": [
      "curr_suffix = '--curr-suff--'\n",
      "prev_suffix = '--prev-suff--'\n",
      "def wordCharFeatures(words,tag,prev_tag,m):\n",
      "    output = wordFeatures(words,tag,prev_tag,m) #start with the features from wordFeatures\n",
      "    output.update({(curr_suffix,tag,words[m][-1:]): 1})\n",
      "    if(m > 0):\n",
      "        output.update({(prev_suffix,tag,words[m-1][-1:]): 1})\n",
      "    return output"
     ],
     "language": "python",
     "metadata": {},
     "outputs": [],
     "prompt_number": 10
    },
    {
     "cell_type": "code",
     "collapsed": false,
     "input": [
      "# sanity check desired output\n",
      "print wordCharFeatures(sent,'V','V',1)\n",
      "# no prev-suff feature in this one, because m=0\n",
      "print wordCharFeatures(sent,'V','V',0)"
     ],
     "language": "python",
     "metadata": {},
     "outputs": [
      {
       "output_type": "stream",
       "stream": "stdout",
       "text": [
        "{('--curr-suff--', 'V', 'n'): 1, ('--E--', 'V', 'can'): 1, ('--OFF--', 'V'): 1, ('--prev-suff--', 'V', 'y'): 1}\n",
        "{('--curr-suff--', 'V', 'y'): 1, ('--E--', 'V', 'they'): 1, ('--OFF--', 'V'): 1}\n"
       ]
      }
     ],
     "prompt_number": 11
    },
    {
     "cell_type": "markdown",
     "metadata": {},
     "source": [
      "Now you will define a classification-based tagger. To get you started, here are some test weights."
     ]
    },
    {
     "cell_type": "code",
     "collapsed": false,
     "input": [
      "test_weights = defaultdict(float)\n",
      "test_tags = ['N','V','V','N']\n",
      "for i in range(len(sent)):\n",
      "    for feat in wordFeatures(sent,test_tags[i],'X',i):\n",
      "        test_weights[feat] = 1\n",
      "    for feat in wordFeatures(sent,'X','X',i):\n",
      "        test_weights[feat] = 1\n",
      "print test_weights"
     ],
     "language": "python",
     "metadata": {},
     "outputs": [
      {
       "output_type": "stream",
       "stream": "stdout",
       "text": [
        "defaultdict(<type 'float'>, {('--E--', 'X', 'they'): 1, ('--E--', 'X', 'can'): 1, ('--E--', 'V', 'can'): 1, ('--OFF--', 'N'): 1, ('--OFF--', 'X'): 1, ('--E--', 'X', 'fish'): 1, ('--E--', 'N', 'they'): 1, ('--OFF--', 'V'): 1, ('--E--', 'N', 'fish'): 1})\n"
       ]
      }
     ],
     "prompt_number": 12
    },
    {
     "cell_type": "code",
     "collapsed": false,
     "input": [
      "# use this to find the highest-scoring label\n",
      "argmax = lambda x : max(x.iteritems(),key=operator.itemgetter(1))[0]"
     ],
     "language": "python",
     "metadata": {},
     "outputs": [],
     "prompt_number": 13
    },
    {
     "cell_type": "markdown",
     "metadata": {},
     "source": [
      "**Deliverable 4b** (1 point): Define a function that takes a list of words, feature function, dict of weights, and a tagset, and outputs a list of predicted tags (one per word)."
     ]
    },
    {
     "cell_type": "code",
     "collapsed": false,
     "input": [
      "def classifierTagger(words,featfunc,weights,all_tags):\n",
      "    \"\"\"\n",
      "    :param words: list of words\n",
      "    :param features: function from lists of words and tags to list of features\n",
      "    :param weights: defaultdict of weights\n",
      "    :param all_tags: list of permissible tags\n",
      "    :returns list of tags\n",
      "    \"\"\"\n",
      "    out = []\n",
      "    scores = defaultdict(float)\n",
      "    for cntr in xrange(len(words)):\n",
      "        scores = defaultdict(float)\n",
      "        for tg in all_tags:\n",
      "            temptag = featfunc(words,tg,'X',cntr)\n",
      "            for k , v in temptag.iteritems():\n",
      "                scores[tg] = scores.get(tg,0) + weights.get(k,0)\n",
      "        out.append(argmax(scores))\n",
      "    return out"
     ],
     "language": "python",
     "metadata": {},
     "outputs": [],
     "prompt_number": 14
    },
    {
     "cell_type": "code",
     "collapsed": false,
     "input": [
      "# sanity check from my implementation\n",
      "classifierTagger(sent,wordFeatures,test_weights,alltags)"
     ],
     "language": "python",
     "metadata": {},
     "outputs": [
      {
       "metadata": {},
       "output_type": "pyout",
       "prompt_number": 15,
       "text": [
        "['N', 'V', 'V', 'N']"
       ]
      }
     ],
     "prompt_number": 15
    },
    {
     "cell_type": "markdown",
     "metadata": {},
     "source": [
      "Here's a function that evaluates a tagger on the devset. "
     ]
    },
    {
     "cell_type": "code",
     "collapsed": false,
     "input": [
      "def evalTagger(tagger,outfilename,evalfile=devfile):\n",
      "    \"\"\"\n",
      "    :param tagger: a function that takes words and a list of candidate tags, and outputs a list of tags\n",
      "    :param outfilename: a filename to store the output\n",
      "    :param evalfile: a filename of the dev set data\n",
      "    \"\"\"\n",
      "    with open(outfilename,'w') as outfile:\n",
      "        for words,_ in conllSeqGenerator(evalfile):\n",
      "            pred_tags = tagger(words,alltags)\n",
      "            for tag in pred_tags:\n",
      "                print >>outfile, tag\n",
      "            print >>outfile, \"\"\n",
      "    return scorer.getConfusion(evalfile,outfilename) #run the scorer on the prediction file"
     ],
     "language": "python",
     "metadata": {},
     "outputs": [],
     "prompt_number": 16
    },
    {
     "cell_type": "markdown",
     "metadata": {},
     "source": [
      "To use evalTagger, you'll need pass in a tagger which takes only two arguments. \n",
      "\n",
      "To do this, you can use a lambda expression to pass some arguments to classifierTagger, as shown below:"
     ]
    },
    {
     "cell_type": "code",
     "collapsed": false,
     "input": [
      "confusion = evalTagger(lambda words,alltags : classifierTagger(words,wordFeatures,test_weights,alltags),'test')\n",
      "print scorer.accuracy(confusion)"
     ],
     "language": "python",
     "metadata": {},
     "outputs": [
      {
       "output_type": "stream",
       "stream": "stdout",
       "text": [
        "0.139539705577\n"
       ]
      }
     ],
     "prompt_number": 17
    },
    {
     "cell_type": "markdown",
     "metadata": {},
     "source": [
      "**Deliverable 4c** (3 points): Apply your averaged perceptron from pset 1b to do part-of-speech tagging. Start by adapting your oneItAvgPerceptron function. You'll have to make some changes:\n",
      "\n",
      "- Replace your call to the predict() function with a call to classifierTagger()\n",
      "- The instanceGenerator now produces word lists and tag lists as instances, instead of feature counts.\n",
      "- You can treat entire sentences as instances, if you want -- this may be slightly easier. This means that you only update the weights after seeing an entire sentence, sort of like a minibatch.\n",
      "- You'll want to add the feature function as an extra argument to both oneItAvgPerceptron and trainAvgPerceptron\n",
      "- return the training accuracy rather than the number of errors"
     ]
    },
    {
     "cell_type": "code",
     "collapsed": false,
     "input": [
      "def oneItAvgPerceptron(inst_generator,featfunc,weights,wsum,tagset,Tinit=0):\n",
      "    \"\"\"\n",
      "    :param inst_generator: iterator over instances\n",
      "    :param featfunc: feature function on (words, tag_m, tag_m_1, m)\n",
      "    :param weights: default dict\n",
      "    :param wsum: weight sum, for averaging\n",
      "    :param tagset: set of permissible tags\n",
      "    :param Tinit: initial value of t, the counter over instances\n",
      "    :returns weights: a defaultdict of weights\n",
      "    :returns wsum: a defaultdict of weight sums, for averaging (as in pset 1b)\n",
      "    :returns tr_acc: training set accuracy\n",
      "    :return i: a counter of the number of instances seen\n",
      "    \"\"\"\n",
      "    tr_err = 0.0\n",
      "    features = defaultdict(float)\n",
      "    for k,(words,y_true) in enumerate(inst_generator):\n",
      "         predictedLabel= classifierTagger(words,featfunc,weights,tagset)\n",
      "         for i in xrange(len(predictedLabel)):\n",
      "            if predictedLabel[i] != y_true[i]:\n",
      "                tr_err += 1\n",
      "                predfeatures = featfunc(words,predictedLabel[i],'X',i)\n",
      "                for key , val in predfeatures.iteritems():\n",
      "                    weights[key] = weights.get(key,0) - 1\n",
      "                    wsum[key] = wsum.get(key,0) -   ((Tinit + k) * 1.0)\n",
      "                truefeatures = featfunc(words,y_true[i],'X',i)\n",
      "                for key,val in truefeatures.iteritems():\n",
      "                    weights[key] = weights.get(key,0) + 1.0\n",
      "                    wsum[key] = wsum.get(key,0) +   ((Tinit + k) * 1.0)\n",
      "                    \n",
      "    return weights, wsum, 1.-tr_err / float(sum([len(s) for s,t in inst_generator])), k"
     ],
     "language": "python",
     "metadata": {},
     "outputs": [],
     "prompt_number": 18
    },
    {
     "cell_type": "code",
     "collapsed": false,
     "input": [
      "# here's how it's used. this takes approx 2 seconds for me (using %%timeit)\n",
      "weights,wsum,tr_acc,i = oneItAvgPerceptron(tr_all,wordFeatures,defaultdict(float),defaultdict(float),alltags)"
     ],
     "language": "python",
     "metadata": {},
     "outputs": [],
     "prompt_number": 19
    },
    {
     "cell_type": "code",
     "collapsed": false,
     "input": [
      "#sanity check. The weight sum numbers might be different if you don't treat sentences as instances, which is what I do.\n",
      "print weights[emit,'D','the'], wsum[emit,'D','the']\n",
      "print weights[emit,'N','the'], wsum[emit,'N','the']\n",
      "print weights[emit,'V','like'], wsum[emit,'V','like']\n",
      "print weights[emit,'P','like'], wsum[emit,'P','like']"
     ],
     "language": "python",
     "metadata": {},
     "outputs": [
      {
       "output_type": "stream",
       "stream": "stdout",
       "text": [
        "16.0 2611.0\n",
        "-1 -212.0\n",
        "2.0 587.0\n",
        "5.0 942.0\n"
       ]
      }
     ],
     "prompt_number": 20
    },
    {
     "cell_type": "markdown",
     "metadata": {},
     "source": [
      "**Deliverable 4d** (2 points): Now adapt trainAvgPerceptron function to do tagging. This should require fewer changes than oneItAvgPerceptron, but you will have to:\n",
      "\n",
      "- take a feature function as an argument\n",
      "- call evalTagger instead of evalClassifier to get the confusion matrix\n",
      "- don't forget you've modified oneItAvgPerceptron to return the training set accuracy, not the number of errors"
     ]
    },
    {
     "cell_type": "code",
     "collapsed": false,
     "input": [
      "def trainAvgPerceptron(N_its,inst_generator,featfunc,tagset):\n",
      "    \"\"\"\n",
      "    :param N_its: number of iterations\n",
      "    :param inst_generator: generate words,tags pairs\n",
      "    :param featfunc: feature function\n",
      "    :param tagset: set of all possible tags\n",
      "    :returns average weights, training accuracy, dev accuracy\n",
      "    \"\"\"\n",
      "    tr_acc = [None]*N_its\n",
      "    dv_acc = [None]*N_its\n",
      "    T = 0\n",
      "    weights = defaultdict(float)\n",
      "    wsum = defaultdict(float)\n",
      "    for i in xrange(N_its):\n",
      "        # your code here\n",
      "        weights,wsum,tr_acc_i,tr_tot = oneItAvgPerceptron(inst_generator,featfunc,weights,wsum,tagset,T)\n",
      "        T = (i+1)*tr_tot\n",
      "        avg_weights = defaultdict(float)\n",
      "        for items ,value in weights.iteritems():\n",
      "                avg_weights[items] = value - (wsum.get(items,0) / T)\n",
      "        confusion = evalTagger(lambda words, alltags: classifierTagger(words,featfunc,avg_weights,tagset),'perc')\n",
      "        dv_acc[i] = scorer.accuracy(confusion)\n",
      "        tr_acc[i] = tr_acc_i\n",
      "        print i,'dev:',dv_acc[i],'train:',tr_acc[i]\n",
      "    return avg_weights, tr_acc, dv_acc"
     ],
     "language": "python",
     "metadata": {},
     "outputs": [],
     "prompt_number": 21
    },
    {
     "cell_type": "markdown",
     "metadata": {},
     "source": [
      "Usage example below. Note that we do about as well as the HMM with just wordCharFeatures, and we're not even considering sequence information yet. This code takes less than 30 seconds for me to run."
     ]
    },
    {
     "cell_type": "code",
     "collapsed": false,
     "input": [
      "w, tr_acc, dv_acc = trainAvgPerceptron(10,tr_all,wordCharFeatures,alltags)"
     ],
     "language": "python",
     "metadata": {},
     "outputs": [
      {
       "output_type": "stream",
       "stream": "stdout",
       "text": [
        "0 dev: 0.673439767779 train: 0.523428415076\n",
        "1"
       ]
      },
      {
       "output_type": "stream",
       "stream": "stdout",
       "text": [
        " dev: 0.710346257516 train: 0.685477802859\n",
        "2"
       ]
      },
      {
       "output_type": "stream",
       "stream": "stdout",
       "text": [
        " dev: 0.729836201534 train: 0.764279362473\n",
        "3"
       ]
      },
      {
       "output_type": "stream",
       "stream": "stdout",
       "text": [
        " dev: 0.736678415924 train: 0.824953827211\n",
        "4"
       ]
      },
      {
       "output_type": "stream",
       "stream": "stdout",
       "text": [
        " dev: 0.742691270993 train: 0.853615158356\n",
        "5"
       ]
      },
      {
       "output_type": "stream",
       "stream": "stdout",
       "text": [
        " dev: 0.746423387933 train: 0.879813940762\n",
        "6"
       ]
      },
      {
       "output_type": "stream",
       "stream": "stdout",
       "text": [
        " dev: 0.746423387933 train: 0.89034817703\n",
        "7"
       ]
      },
      {
       "output_type": "stream",
       "stream": "stdout",
       "text": [
        " dev: 0.746630727763 train: 0.899445926534\n",
        "8"
       ]
      },
      {
       "output_type": "stream",
       "stream": "stdout",
       "text": [
        " dev: 0.747045407423 train: 0.903892195089\n",
        "9"
       ]
      },
      {
       "output_type": "stream",
       "stream": "stdout",
       "text": [
        " dev: 0.747460087083 train: 0.904713044668\n"
       ]
      }
     ],
     "prompt_number": 22
    },
    {
     "cell_type": "markdown",
     "metadata": {},
     "source": [
      "**Deliverable 4e** (3 points): Make it better! Design a killer feature set that improves performance on the devset.\n",
      "\n",
      "I'm able to get above 84% on the dev set, without going too crazy. Warning: my additional features slow things down considerably."
     ]
    },
    {
     "cell_type": "code",
     "collapsed": false,
     "input": [
      "fut_suffix = '--future-suff--'\n",
      "fut_2suffix = '--future-2suff--'\n",
      "fut_3suffix = '--future-3suff--'\n",
      "\n",
      "prev_word = '--prev-word--'\n",
      "prev_2word = '--prev-2word--'\n",
      "prev_3word = '--prev-3word--'\n",
      "\n",
      "prev_prefix ='--prev-prefix--'\n",
      "curr_prefix = 'curr-prefix--'\n",
      "curr_prefix1 = 'curr-prefix1--'"
     ],
     "language": "python",
     "metadata": {},
     "outputs": [],
     "prompt_number": 23
    },
    {
     "cell_type": "code",
     "collapsed": false,
     "input": [
      "def yourFeatures(words,tag,prev_tag,m):\n",
      "    output = wordCharFeatures(words,tag,prev_tag,m) #start with the features from wordFeatures\n",
      "    output.update({(curr_prefix,tag,words[m][:2]): 1})\n",
      "    if(m > 1):\n",
      "        if(len(words) > 1):\n",
      "            output.update({(prev_prefix,tag,words[m-1][-2:]): 1})\n",
      "            \n",
      "        output.update({(prev_word,tag,words[m-1]): 1})\n",
      "        output.update({(prev_2word,tag,words[m-2]): 1})\n",
      "        output.update({(prev_3word,tag,words[m-3]): 1})        \n",
      "    if m < len(words) - 4:\n",
      "        output.update({(fut_suffix,tag,words[m+1]): 1})\n",
      "#         output.update({(fut_2suffix,tag,words[m+2]): 1})\n",
      "#         output.update({(fut_3suffix,tag,words[m+3]): 1})\n",
      "    return output\n",
      "\n",
      "# jacobfeatures = yourfeatures(words)"
     ],
     "language": "python",
     "metadata": {},
     "outputs": [],
     "prompt_number": 24
    },
    {
     "cell_type": "code",
     "collapsed": false,
     "input": [
      "w, tr_acc, dv_acc = trainAvgPerceptron(10,tr_all,yourFeatures,alltags)"
     ],
     "language": "python",
     "metadata": {},
     "outputs": [
      {
       "output_type": "stream",
       "stream": "stdout",
       "text": [
        "0 dev: 0.748082106573 train: 0.618646966277\n",
        "1"
       ]
      },
      {
       "output_type": "stream",
       "stream": "stdout",
       "text": [
        " dev: 0.78063445988 train: 0.845953895615\n",
        "2"
       ]
      },
      {
       "output_type": "stream",
       "stream": "stdout",
       "text": [
        " dev: 0.789757412399 train: 0.912647923935\n",
        "3"
       ]
      },
      {
       "output_type": "stream",
       "stream": "stdout",
       "text": [
        " dev: 0.793074849679 train: 0.943566591422\n",
        "4"
       ]
      },
      {
       "output_type": "stream",
       "stream": "stdout",
       "text": [
        " dev: 0.793904208999 train: 0.963677406115\n",
        "5"
       ]
      },
      {
       "output_type": "stream",
       "stream": "stdout",
       "text": [
        " dev: 0.797221646278 train: 0.971270264724\n",
        "6"
       ]
      },
      {
       "output_type": "stream",
       "stream": "stdout",
       "text": [
        " dev: 0.797428986108 train: 0.98255694644\n",
        "7"
       ]
      },
      {
       "output_type": "stream",
       "stream": "stdout",
       "text": [
        " dev: 0.798258345428 train: 0.985635132362\n",
        "8"
       ]
      },
      {
       "output_type": "stream",
       "stream": "stdout",
       "text": [
        " dev: 0.799917064068 train: 0.990628633969\n",
        "9"
       ]
      },
      {
       "output_type": "stream",
       "stream": "stdout",
       "text": [
        " dev: 0.801161103048 train: 0.990765442233\n"
       ]
      }
     ],
     "prompt_number": 25
    },
    {
     "cell_type": "markdown",
     "metadata": {},
     "source": [
      "# 5. Discriminative Structure Prediction #\n",
      "\n",
      "Now you will implement a Structured Perceptron, which is trained to find the optimal *sequence* $\\vec{y} = \\text{arg}\\max_\\vec{y} \\theta^{\\top} \\vec{f}(\\vec{w},\\vec{y})$"
     ]
    },
    {
     "cell_type": "markdown",
     "metadata": {},
     "source": [
      "A key difference from the classification-based setting is that we compute features over the entire sequence.\n",
      "\n",
      "**Deliverable 5a** (0.5 points): Implement a function seqFeatures, which takes a list of words, a list of tags, and a feature function, and returns a dictionary of features and their counts."
     ]
    },
    {
     "cell_type": "code",
     "collapsed": false,
     "input": [
      "def seqFeatures(words,tags,featfunc):\n",
      "    '''\n",
      "    :param words: a list of words\n",
      "    :param tags: a list of tags\n",
      "    :param featfunc: a function to compute f(words,tag_m,tag_{m-1},m)\n",
      "    :returns list of features\n",
      "    '''\n",
      "    allfeats = defaultdict(float)\n",
      "    c = Counter()\n",
      "    for i in xrange(len(words)):\n",
      "        if i == 0:\n",
      "            tempfeats = featfunc(words,tags[i],start_tag,i)\n",
      "        else:\n",
      "            tempfeats = featfunc(words,tags[i],tags[i-1],i)\n",
      "        \n",
      "        c = c + Counter(tempfeats)\n",
      "   \n",
      "        allfeats.update(c)\n",
      "    \n",
      "    allfeats.update({(offset,end_tag):1})\n",
      "    # your code here\n",
      "    return allfeats"
     ],
     "language": "python",
     "metadata": {},
     "outputs": [],
     "prompt_number": 26
    },
    {
     "cell_type": "code",
     "collapsed": false,
     "input": [
      "# sanity check\n",
      "seqFeatures(sent,['N','V','V','N'],wordFeatures)"
     ],
     "language": "python",
     "metadata": {},
     "outputs": [
      {
       "metadata": {},
       "output_type": "pyout",
       "prompt_number": 27,
       "text": [
        "defaultdict(<type 'float'>, {('--OFF--', '--END--'): 1, ('--E--', 'N', 'they'): 1, ('--OFF--', 'V'): 2, ('--E--', 'N', 'fish'): 1, ('--E--', 'V', 'can'): 2, ('--OFF--', 'N'): 2})"
       ]
      }
     ],
     "prompt_number": 27
    },
    {
     "cell_type": "markdown",
     "metadata": {},
     "source": [
      "**Deliverable 5b** (0.5 points): now create a new feature function wordTransFeatures, which adds tag-to-tag transition features to wordFeatures. Note that this feature set is identical to what the HMM uses."
     ]
    },
    {
     "cell_type": "code",
     "collapsed": false,
     "input": [
      "def wordTransFeatures(words,tag,prev_tag,m):\n",
      "    output = wordFeatures(words,tag,prev_tag,m) #start with the features from wordFeatures\n",
      "    output.update({(trans,tag,prev_tag):1})\n",
      "    if(m == len(words)-1):\n",
      "        output.update({(trans,end_tag,tag): 1})\n",
      "    return output"
     ],
     "language": "python",
     "metadata": {},
     "outputs": [],
     "prompt_number": 28
    },
    {
     "cell_type": "code",
     "collapsed": false,
     "input": [
      "# sanity check\n",
      "seqFeatures(sent,['N','V','V','N'],wordTransFeatures)"
     ],
     "language": "python",
     "metadata": {},
     "outputs": [
      {
       "metadata": {},
       "output_type": "pyout",
       "prompt_number": 29,
       "text": [
        "defaultdict(<type 'float'>, {('--T--', 'V', 'V'): 1, ('--E--', 'V', 'can'): 2, ('--T--', 'N', 'V'): 1, ('--OFF--', 'N'): 2, ('--OFF--', '--END--'): 1, ('--T--', 'N', '--START--'): 1, ('--E--', 'N', 'they'): 1, ('--OFF--', 'V'): 2, ('--E--', 'N', 'fish'): 1, ('--T--', '--END--', 'N'): 1, ('--T--', 'V', 'N'): 1})"
       ]
      }
     ],
     "prompt_number": 29
    },
    {
     "cell_type": "markdown",
     "metadata": {},
     "source": [
      "**Deliverable 5c** (1 point): copy in your viterbiTagger from part 2a. If you implemented it correctly, you should be able to use it without modification here."
     ]
    },
    {
     "cell_type": "code",
     "collapsed": false,
     "input": [
      "def viterbiTagger(words,feat_func,weights,all_tags,debug=False):\n",
      "    \"\"\"\n",
      "    :param words: list of words\n",
      "    :param feat_func: feature function\n",
      "    :param weights: defaultdict of weights\n",
      "    :param tagset: list of permissible tags\n",
      "    :param debug: optional debug flag\n",
      "    :returns output: tag sequence\n",
      "    :returns best_score: viterbi score of best tag sequence\n",
      "    \"\"\"\n",
      "\n",
      "    output = [None] * len(words) #hint: store the output here. build this last.\n",
      "    all_tags = list(all_tags)\n",
      "#   Matrix represents the trellis structure for m words and t classes. Represented as lists of list\n",
      "    Matrix = [[100 for x in xrange(len(words))] for x in xrange(len(all_tags))] \n",
      "#     The b matrix is a pointer matrix. Represented as lists of list\n",
      "    b = [[100 for x in xrange(len(words))] for x in xrange(len(all_tags))]   \n",
      "    for i in xrange(len(words)):\n",
      "        for j in xrange(len(all_tags)):\n",
      "            temp_weight = list()\n",
      "            twt = int()\n",
      "            if (i-1) < 0:                                                            \n",
      "                temp = feat_func(words,all_tags[j],start_tag,i)   \n",
      "                for key, val in temp.iteritems():\n",
      "                    if key[0] != emit:\n",
      "                        twt += weights.get(key,0)\n",
      "                temp_weight.append(twt)       \n",
      "                Matrix[j][i] = temp_weight[0] + weights.get((emit, all_tags[j],words[i]),0)\n",
      "                b[j][i] = -1\n",
      "            else:\n",
      "                for k in xrange(len(all_tags)):\n",
      "                        temp = feat_func(words,all_tags[j],all_tags[k],i)\n",
      "                        for key, val in temp.iteritems():\n",
      "                            if key[0] != emit:\n",
      "                                twt += weights.get(key,0)\n",
      "                        temp_weight.append( twt+ Matrix[k][i-1])\n",
      "                        twt = 0\n",
      "                        emission_wt =   weights.get((emit,all_tags[j],words[i]),0)\n",
      "                maxi = temp_weight[0]\n",
      "                pos = 0\n",
      "                for z in xrange(len(temp_weight)):\n",
      "                    if temp_weight[z] > maxi:\n",
      "                        maxi = temp_weight[z]\n",
      "                        pos = z\n",
      "                b[j][i] = pos\n",
      "                if( i == len(words)):\n",
      "                    Matrix[j][i] = maxi\n",
      "                else:\n",
      "                    Matrix[j][i] = emission_wt + maxi\n",
      "                     \n",
      "    m = Matrix[0][len(words)-1]\n",
      "    pos = 0\n",
      "    for z in xrange(len(temp_weight)):\n",
      "        if (Matrix[z][len(words)-1] > m):\n",
      "            m = Matrix[z][len(words)-1]\n",
      "            pos = z\n",
      "    \n",
      "    best_score = m \n",
      " \n",
      "    index = pos\n",
      "    cntr = len(words)-1\n",
      "    output[cntr] = all_tags[index]\n",
      "    while(cntr > 0):\n",
      "        index = b[index][cntr]\n",
      "        output[cntr-1] = all_tags[index]\n",
      "        cntr -= 1\n",
      "     \n",
      "    return output,best_score\n"
     ],
     "language": "python",
     "metadata": {},
     "outputs": [],
     "prompt_number": 30
    },
    {
     "cell_type": "code",
     "collapsed": false,
     "input": [
      "#sanity check\n",
      "viterbiTagger(['they','can','can','fish'],wordTransFeatures,test_weights,alltags)"
     ],
     "language": "python",
     "metadata": {},
     "outputs": [
      {
       "metadata": {},
       "output_type": "pyout",
       "prompt_number": 31,
       "text": [
        "(['N', 'V', 'V', 'N'], 8)"
       ]
      }
     ],
     "prompt_number": 31
    },
    {
     "cell_type": "markdown",
     "metadata": {},
     "source": [
      "**Deliverable 5d** (5 points): create a function oneItAvgStructPerceptron, which performs a single iteration of averaged structured perceptron. It should be similar to your oneItAvgPerceptron, but will have to be different in some ways to reflect the structured prediction scenario.\n",
      "\n",
      "- To make predictions, you must call your viterbiTagger function\n",
      "- To compute the features for a given sequence of words and tags, you must call you seqFeatures function\n",
      "- As above, output the training accuracy, not the number of training errors"
     ]
    },
    {
     "cell_type": "code",
     "collapsed": false,
     "input": [
      "def oneItAvgStructPerceptron(inst_generator,\n",
      "                             featfunc,\n",
      "                             weights,\n",
      "                             wsum,\n",
      "                             tagset,\n",
      "                             Tinit=0):\n",
      "    \"\"\"\n",
      "    :param inst_generator: A generator of (words,tags) tuples\n",
      "    :param tagger: A function from (words, weights) to tags\n",
      "    :param features: A function from (words, tags) to a dict of features and weights\n",
      "    :param weights: A defaultdict of weights\n",
      "    :param wsum: A defaultdict of weight sums\n",
      "    :param Tinit: the initial value of the $t$ counter at the beginning of this iteration\n",
      "    :returns weights: a defaultdict of weights\n",
      "    :returns wsum: a defaultdict of weight sums, for averaging\n",
      "    :returns tr_acc: the training accuracy\n",
      "    :returns i: the number of instances (sentences) seen\n",
      "    \"\"\"\n",
      "\n",
      "    tr_err = 0\n",
      "    tr_tot = 0\n",
      "    features = defaultdict(float)\n",
      "    predfeatures = defaultdict(float)\n",
      "    for k,(words,y_true) in enumerate(inst_generator):\n",
      "            features = seqFeatures(words,y_true,featfunc)\n",
      "\n",
      "            predictedLabel, _= viterbiTagger(words,featfunc,weights,tagset)\n",
      "            \n",
      "            predfeatures = seqFeatures(words,predictedLabel,featfunc)\n",
      "            if( predictedLabel != y_true):\n",
      "                for i in xrange(len(predictedLabel)):\n",
      "                    if predictedLabel[i] != y_true[i]:\n",
      "                        tr_err += 1\n",
      "                for ky , vl in features.iteritems():\n",
      "                    weights[ky]  = weights.get(ky,0) + features.get(ky,0)  \n",
      "                    wsum[ky]  = wsum.get(ky,0) + ((Tinit + k) * features.get(ky,0))\n",
      "                for ky , vl in predfeatures.iteritems():\n",
      "                    weights[ky]  = weights.get(ky,0)  - vl\n",
      "                    wsum[ky]  = wsum.get(ky,0) -   ((Tinit + k) * vl)\n",
      "    tr_tot = float(sum([len(s) for s,t in inst_generator])) \n",
      "    return weights, wsum, 1-tr_err/tr_tot, k"
     ],
     "language": "python",
     "metadata": {},
     "outputs": [],
     "prompt_number": 32
    },
    {
     "cell_type": "markdown",
     "metadata": {},
     "source": [
      "Sanity check. Note that I'm only considering the first 100 sentences, and it still takes 6 seconds. You may want to debug on an even smaller subset of the corpus."
     ]
    },
    {
     "cell_type": "code",
     "collapsed": false,
     "input": [
      "weights,wsum,tr_acc,i = oneItAvgStructPerceptron(tr_all[:100],wordTransFeatures,defaultdict(float),defaultdict(float),alltags)\n"
     ],
     "language": "python",
     "metadata": {},
     "outputs": [],
     "prompt_number": 33
    },
    {
     "cell_type": "code",
     "collapsed": false,
     "input": [
      "for tag1 in list(alltags)[:7]:\n",
      "    for tag2 in list(alltags)[:7]:\n",
      "        if weights[(trans,tag1,tag2)] != 0:\n",
      "            print tag1, tag2, weights[(trans,tag1,tag2)], wsum[(trans,tag1,tag2)]\n"
     ],
     "language": "python",
     "metadata": {},
     "outputs": [
      {
       "output_type": "stream",
       "stream": "stdout",
       "text": [
        "! ! -29 18\n",
        "! , 2 -49\n",
        "! @ 5 -75\n",
        "# # -3 -130\n",
        "# , -3 -329\n",
        "$ $ -14 -194\n",
        "$ , 1 -164\n",
        "& @ 2 127\n",
        ", ! 3 -196\n",
        ", # -4 -393\n",
        ", $ 3 68\n",
        ", & -3 -150\n",
        ", , -1 -43\n",
        ", A 3 158\n",
        ", @ 1 43\n",
        "A ! 2 108\n",
        "A , -1 -36\n",
        "A A -11 -400\n",
        "A @ -1 -33\n",
        "@ ! 1 95\n",
        "@ & 1 45\n",
        "@ @ -9 -412\n"
       ]
      }
     ],
     "prompt_number": 34
    },
    {
     "cell_type": "markdown",
     "metadata": {},
     "source": [
      "Sample output"
     ]
    },
    {
     "cell_type": "markdown",
     "metadata": {},
     "source": [
      "**Deliverable 5e** (2 points): Implement trainAvgStructPerceptron. This will be quite similar to your trainAvgPerceptron from ps1b, but will have to take slightly different arguments to handle the structured prediction case. Don't forget to use evalTagger to produce output."
     ]
    },
    {
     "cell_type": "code",
     "collapsed": false,
     "input": [
      "def trainAvgStructPerceptron(N_its,inst_generator,featfunc,tagset):\n",
      "    \"\"\"\n",
      "    :param N_its: number of iterations\n",
      "    :param inst_generator: A generator of (words,tags) tuples\n",
      "    :param tagger: A function from (words, weights) to tags\n",
      "    :param features: A function from (words, tags) to a dict of features and weights\n",
      "    :returns weights: defaultdict of weights\n",
      "    :returns tr_acc: training accuracy\n",
      "    :returns dv_acc: dev set accuracy\n",
      "    \"\"\"\n",
      "\n",
      "    tr_acc = [None]*N_its\n",
      "    dv_acc = [None]*N_its\n",
      "    T = 0\n",
      "    weights = defaultdict(float)\n",
      "    wsum = defaultdict(float)\n",
      "    for i in xrange(N_its):\n",
      "        weights,wsum,tr_acc_i,tr_tot = oneItAvgStructPerceptron(inst_generator,featfunc,weights,wsum,tagset,T)\n",
      "        T = (i+1)*tr_tot\n",
      "        avg_weights = defaultdict(float)\n",
      "        for items ,value in weights.iteritems():\n",
      "            avg_weights[items] = value - (wsum.get(items,0) / T)\n",
      "        # note that I call evalTagger to produce the dev set results\n",
      "        confusion = evalTagger(lambda words,tags : viterbiTagger(words,featfunc,avg_weights,tags)[0],'sp.txt')\n",
      "        dv_acc[i] = scorer.accuracy(confusion)\n",
      "        tr_acc[i] = tr_acc_i#1. - tr_err/float(sum([len(s) for s,t in inst_generator]))\n",
      "        print i, \"dev:\", dv_acc[i], \"train:\", tr_acc_i\n",
      "    return weights, tr_acc, dv_acc"
     ],
     "language": "python",
     "metadata": {},
     "outputs": [],
     "prompt_number": 35
    },
    {
     "cell_type": "code",
     "collapsed": false,
     "input": [
      "# your code should roughly reproduce this sanity check. It may be a little slow, so we'll just test on the first 50 instances.\n",
      "# While you're debugging your code, you can run on even smaller datasets.\n",
      "theta,tr_acc,dv_acc = trainAvgStructPerceptron(5,tr_all[:50],wordTransFeatures,alltags)"
     ],
     "language": "python",
     "metadata": {},
     "outputs": [
      {
       "output_type": "stream",
       "stream": "stdout",
       "text": [
        "0 dev: 0.374248393116 train: 0.207874015748\n",
        "1"
       ]
      },
      {
       "output_type": "stream",
       "stream": "stdout",
       "text": [
        " dev: 0.429193448061 train: 0.363779527559\n",
        "2"
       ]
      },
      {
       "output_type": "stream",
       "stream": "stdout",
       "text": [
        " dev: 0.472527472527 train: 0.587401574803\n",
        "3"
       ]
      },
      {
       "output_type": "stream",
       "stream": "stdout",
       "text": [
        " dev: 0.494505494505 train: 0.749606299213\n",
        "4"
       ]
      },
      {
       "output_type": "stream",
       "stream": "stdout",
       "text": [
        " dev: 0.513580758864 train: 0.763779527559\n"
       ]
      }
     ],
     "prompt_number": 36
    },
    {
     "cell_type": "markdown",
     "metadata": {},
     "source": [
      "Run your code on all the training data, using wordTransFeatures."
     ]
    },
    {
     "cell_type": "code",
     "collapsed": false,
     "input": [
      "theta,tr_acc,dv_acc = trainAvgStructPerceptron(20,tr_all,wordTransFeatures,alltags)"
     ],
     "language": "python",
     "metadata": {},
     "outputs": [
      {
       "output_type": "stream",
       "stream": "stdout",
       "text": [
        "0 dev: 0.659340659341 train: 0.489978794719\n",
        "1"
       ]
      },
      {
       "output_type": "stream",
       "stream": "stdout",
       "text": [
        " dev: 0.699771926187 train: 0.66639305014\n",
        "2"
       ]
      },
      {
       "output_type": "stream",
       "stream": "stdout",
       "text": [
        " dev: 0.720298569355 train: 0.751214173336\n",
        "3"
       ]
      },
      {
       "output_type": "stream",
       "stream": "stdout",
       "text": [
        " dev: 0.735227037114 train: 0.795403242356\n",
        "4"
       ]
      },
      {
       "output_type": "stream",
       "stream": "stdout",
       "text": [
        " dev: 0.740410532863 train: 0.857651002121\n",
        "5"
       ]
      },
      {
       "output_type": "stream",
       "stream": "stdout",
       "text": [
        " dev: 0.744557329463 train: 0.857514193857\n",
        "6"
       ]
      },
      {
       "output_type": "stream",
       "stream": "stdout",
       "text": [
        " dev: 0.746838067593 train: 0.894042000137\n",
        "7"
       ]
      },
      {
       "output_type": "stream",
       "stream": "stdout",
       "text": [
        " dev: 0.751814223512 train: 0.906217935563\n",
        "8"
       ]
      },
      {
       "output_type": "stream",
       "stream": "stdout",
       "text": [
        " dev: 0.753058262492 train: 0.910664204118\n",
        "9"
       ]
      },
      {
       "output_type": "stream",
       "stream": "stdout",
       "text": [
        " dev: 0.754716981132 train: 0.919556741227\n",
        "10"
       ]
      },
      {
       "output_type": "stream",
       "stream": "stdout",
       "text": [
        " dev: 0.755339000622 train: 0.922976947808\n",
        "11"
       ]
      },
      {
       "output_type": "stream",
       "stream": "stdout",
       "text": [
        " dev: 0.756375699772 train: 0.926260346125\n",
        "12"
       ]
      },
      {
       "output_type": "stream",
       "stream": "stdout",
       "text": [
        " dev: 0.756997719262 train: 0.925371092414\n",
        "13"
       ]
      },
      {
       "output_type": "stream",
       "stream": "stdout",
       "text": [
        " dev: 0.756583039602 train: 0.92393460565\n",
        "14"
       ]
      },
      {
       "output_type": "stream",
       "stream": "stdout",
       "text": [
        " dev: 0.756997719262 train: 0.938299473288\n",
        "15"
       ]
      },
      {
       "output_type": "stream",
       "stream": "stdout",
       "text": [
        " dev: 0.757205059092 train: 0.938094260893\n",
        "16"
       ]
      },
      {
       "output_type": "stream",
       "stream": "stdout",
       "text": [
        " dev: 0.757412398922 train: 0.944250632738\n",
        "17"
       ]
      },
      {
       "output_type": "stream",
       "stream": "stdout",
       "text": [
        " dev: 0.757619738752 train: 0.939393939394\n",
        "18"
       ]
      },
      {
       "output_type": "stream",
       "stream": "stdout",
       "text": [
        " dev: 0.758656437902 train: 0.938025856762\n",
        "19"
       ]
      },
      {
       "output_type": "stream",
       "stream": "stdout",
       "text": [
        " dev: 0.759693137052 train: 0.943292974896\n"
       ]
      }
     ],
     "prompt_number": 37
    },
    {
     "cell_type": "markdown",
     "metadata": {},
     "source": [
      "**Deliverable 5f** (3 points): Implement a better feature set for structured prediction. For speed reasons, you might not want to use all the features you used in 4e, but try to get as good an accuracy as you can. Last year I was able to get my structured perceptron to work a little better than my best classifier, but this year my classifier is (slightly) better!"
     ]
    },
    {
     "cell_type": "code",
     "collapsed": false,
     "input": [
      "def yourHMMFeatures(words,tag,prev_tag,m):\n",
      "    output = wordTransFeatures(words,tag,prev_tag,m) #start with the features from wordFeatures\n",
      "    output.update({(trans,tag,prev_tag):1})\n",
      "    output.update({(trans,'N',start_tag): 1})\n",
      "    output.update({(trans,end_tag,'V') : 1})\n",
      "    if(words[m][0].isupper()):\n",
      "        output.update({(curr_prefix1,'^' ,words[m]) : 1})\n",
      "    if(m == len(words)-1):\n",
      "        output.update({(trans,end_tag,tag): 1})\n",
      "    output.update({(curr_suffix,tag,words[m][-1:]): 1})\n",
      "    if(m > 0):\n",
      "        output.update({(prev_suffix,tag,words[m-1][-1:]): 1})\n",
      "    output.update({(curr_prefix,tag,words[m][:2]): 1})\n",
      "    if(m > 1):\n",
      "        if(len(words) > 1):\n",
      "            output.update({(prev_prefix,tag,words[m-1][-2:]): 1})\n",
      "            \n",
      "        output.update({(prev_word,tag,words[m-1]): 1})\n",
      "    if m < len(words) - 2:\n",
      "        output.update({(fut_suffix,tag,words[m+1]): 1})\n",
      "    return output"
     ],
     "language": "python",
     "metadata": {},
     "outputs": [],
     "prompt_number": 38
    },
    {
     "cell_type": "code",
     "collapsed": false,
     "input": [
      "theta,tr_acc,dv_acc = trainAvgStructPerceptron(15,tr_all,yourHMMFeatures,alltags)"
     ],
     "language": "python",
     "metadata": {},
     "outputs": [
      {
       "output_type": "stream",
       "stream": "stdout",
       "text": [
        "0 dev: 0.749118805723 train: 0.608523154799\n",
        "1"
       ]
      },
      {
       "output_type": "stream",
       "stream": "stdout",
       "text": [
        " dev: 0.78187849886 train: 0.803406525754\n",
        "2"
       ]
      },
      {
       "output_type": "stream",
       "stream": "stdout",
       "text": [
        " dev: 0.793489529339 train: 0.867364388809\n",
        "3"
       ]
      },
      {
       "output_type": "stream",
       "stream": "stdout",
       "text": [
        " dev: 0.803234501348 train: 0.90266092072\n",
        "4"
       ]
      },
      {
       "output_type": "stream",
       "stream": "stdout",
       "text": [
        " dev: 0.805100559818 train: 0.932074697312\n",
        "5"
       ]
      },
      {
       "output_type": "stream",
       "stream": "stdout",
       "text": [
        " dev: 0.807588637777 train: 0.945823927765\n",
        "6"
       ]
      },
      {
       "output_type": "stream",
       "stream": "stdout",
       "text": [
        " dev: 0.808417997097 train: 0.954237635953\n",
        "7"
       ]
      },
      {
       "output_type": "stream",
       "stream": "stdout",
       "text": [
        " dev: 0.810491395397 train: 0.967302825091\n",
        "8"
       ]
      },
      {
       "output_type": "stream",
       "stream": "stdout",
       "text": [
        " dev: 0.813808832677 train: 0.968944524249\n",
        "9"
       ]
      },
      {
       "output_type": "stream",
       "stream": "stdout",
       "text": [
        " dev: 0.815674891147 train: 0.975511320884\n",
        "10"
       ]
      },
      {
       "output_type": "stream",
       "stream": "stdout",
       "text": [
        " dev: 0.816089570807 train: 0.977973869622\n",
        "11"
       ]
      },
      {
       "output_type": "stream",
       "stream": "stdout",
       "text": [
        " dev: 0.817955629276 train: 0.981394076202\n",
        "12"
       ]
      },
      {
       "output_type": "stream",
       "stream": "stdout",
       "text": [
        " dev: 0.818162969106 train: 0.982830562966\n",
        "13"
       ]
      },
      {
       "output_type": "stream",
       "stream": "stdout",
       "text": [
        " dev: 0.818784988596 train: 0.986045557152\n",
        "14"
       ]
      },
      {
       "output_type": "stream",
       "stream": "stdout",
       "text": [
        " dev: 0.819199668256 train: 0.98597715302\n"
       ]
      }
     ],
     "prompt_number": 39
    },
    {
     "cell_type": "markdown",
     "metadata": {},
     "source": [
      "# 6. Error analysis #\n",
      "\n",
      "**Deliverable 6** (5 points; CS 7650 only). The scorer.py script produces a confusion matrix, which shows the most common types of errors. Consider your best tagger in any part of the assignment, and identify the three most frequent errors (e.g., N classified as V). Find an example sentence in your tagger has made each type of error, and explain why you think it made the mistake, and how it could be fixed. (If you are feeling competitive, you can then use this information to go back and try to improve your features.)"
     ]
    },
    {
     "cell_type": "code",
     "collapsed": false,
     "input": [
      "confusion=evalTagger(lambda words,tags : viterbiTagger(words,yourHMMFeatures,theta,alltags)[0],'sp.txt')\n",
      "confusion = {(tag1,tag2):count for (tag1,tag2),count in confusion.iteritems() if tag1 != tag2}\n",
      "topThreeErrors = dict(Counter(confusion).most_common(3))\n",
      "print topThreeErrors\n",
      "\n"
     ],
     "language": "python",
     "metadata": {},
     "outputs": [
      {
       "output_type": "stream",
       "stream": "stdout",
       "text": [
        "{('^', 'N'): 101, ('A', 'N'): 43, ('V', 'N'): 57}\n",
        "RT @ProSeverusSnape : \u201cAll that glitters is not gold\u201d True . Sometimes it\u2019s morons pretending to be vampires . Case in point , Edward . What ... \n",
        "\n"
       ]
      }
     ],
     "prompt_number": 45
    },
    {
     "cell_type": "raw",
     "metadata": {},
     "source": [
      "The most common type of errors in classification are: \n",
      "{('^', 'N'): 101, ('A', 'N'): 43, ('V', 'N'): 57}\n",
      "\n",
      "The sentence in the dev file which contains all 3 common type of errors : \n",
      "\n",
      "RT @ProSeverusSnape : \u201cAll that glitters is not gold\u201d True . Sometimes it\u2019s morons pretending to be vampires . Case in point , Edward . What ...\n",
      "\n",
      "1. Here Edward which is a proper noun has been classified as a noun. Here Edward is being referred in the sentence, and the position in the sentence justifies it being classified as a Noun. The tagger fails to classify Proper Noun, more so because I haven't added  specific feature indicating Capitalized words are proper nouns.This can be remedied by adding a feature, assigning captitalized words to Proper Noun.\n",
      "\n",
      "2. Classifier classifies 'True' as Noun instead of Adjective. This is partially because True follows 'Gold' which again tagger erroneously classifies as Verb instead of Noun. In training set, there are many instances of Noun following Verb, also True word is not encountered in the training set,and hence is classified as Noun.Also this is an unusual placement of Adjective, this leads the tagger to misclassify it.\n",
      "\n",
      "3. The tagger gets tagging completely wrong here, since it classifies 'All' as Interjection tag and 'that' as 'Determiner'.So learning from a corpus where features like bigrams, and trigrams have been considered, the tagger learns to assign a noun tag after determiner with high probability and consequently classifies glitters as Noun.This can be partially remedied by adding a feature which assigns a high probability of Noun accuring after the start tag.\n",
      "\n",
      "I incorporated the above features in the final HMMTagger for structured perceptron but the accuracy increased by only 0.4%.\n",
      "\n"
     ]
    },
    {
     "cell_type": "markdown",
     "metadata": {},
     "source": [
      "# 7. Bakeoff! #\n",
      "\n",
      "48 hours before the assignment is due, we will send you unlabeled test data. Your job is to produce a response file that I can evaluate. I'll present the results in class and give the best scorers a chance to explain what they did.\n",
      "\n",
      "** Deliverable 7 ** (3 points) Run your best system from any part of the assignment on the test data. You may also try to improve your system in other ways, such as by using Passive-Aggressive to learn the weights; however, in Deliverable 5f you specifically need to improve the system by designing better features.\n",
      "\n",
      "Rename your response file as lastname-firstname.response, and include it in your submission on T-Square. (Please get this filename right, otherwise we may miss your submission to the bakeoff.) The top scores will be announced inclass.\n"
     ]
    },
    {
     "cell_type": "code",
     "collapsed": false,
     "input": [
      "evalTagger(lambda words,tags : viterbiTagger(words,yourHMMFeatures,theta,alltags)[0],'singh-aashu.response',testfile)"
     ],
     "language": "python",
     "metadata": {},
     "outputs": [
      {
       "metadata": {},
       "output_type": "pyout",
       "prompt_number": 42,
       "text": [
        "defaultdict(<type 'int'>, {('hooker', 'N'): 1, ('0', '$'): 1, ('unrealiable', 'A'): 1, ('@_TheRealYJ', '@'): 1, ('thanksthanks', 'N'): 1, ('online', 'P'): 1, ('miley', 'N'): 1, ('well', 'N'): 1, ('die', 'V'): 1, ('@aljamisonxo', '@'): 1, ('Tuesdays', 'N'): 1, ('Road', '^'): 1, ('who', 'O'): 7, ('#MNpolitics', 'N'): 1, ('#LB', '#'): 1, ('Ponder', 'P'): 1, ('changing', 'V'): 1, ('suck', 'N'): 1, ('Not', 'R'): 1, ('90%', '$'): 1, ('Store', 'N'): 1, ('me', 'O'): 39, ('Culinary', 'A'): 1, ('divorce', 'N'): 1, ('original', 'A'): 2, ('cool', '~'): 1, ('employees', 'N'): 1, ('http://ow.ly/19EMz3', 'U'): 1, ('As', 'R'): 1, ('iPad', '^'): 1, ('video', 'N'): 11, ('Course', 'N'): 1, ('tho', 'P'): 1, ('Hi', '^'): 2, ('Lessons', '^'): 1, ('Zoiks', 'N'): 1, ('http://yfrog.com/8dvz0j', 'U'): 1, ('Herald', 'V'): 1, ('D3130', '@'): 1, ('Doo', 'N'): 1, ('day', 'N'): 13, ('first', 'A'): 1, ('http://t.co/Ft6P05z', 'U'): 1, ('Sometimes', 'P'): 1, ('hatee', 'V'): 1, ('arianny-', 'V'): 1, ('asses', 'N'): 1, ('30', '$'): 1, ('release', 'N'): 1, ('clue', 'N'): 1, ('version', 'N'): 1, ('in', 'T'): 1, ('enough', 'R'): 1, ('@_LadyyQ', '@'): 1, ('tho', 'R'): 1, ('calll', 'V'): 1, ('Puts', 'N'): 1, ('>', '~'): 1, ('http://twitpic.com/31daj3', 'U'): 1, ('were', 'R'): 2, ('up', 'N'): 1, ('inconvenienced', 'V'): 1, ('right', 'N'): 4, ('roommate', 'N'): 1, ('befriend', 'V'): 1, ('stripper', 'N'): 1, ('Win', 'V'): 1, ('climb', '^'): 1, ('gal', 'N'): 1, ('@CSI_JBieber', '@'): 1, ('wakes', 'V'): 1, ('printers', 'N'): 1, ('out', 'T'): 9, ('sigh', 'G'): 1, ('whatz', 'L'): 1, ('Ha', '!'): 3, ('skewl', 'N'): 1, ('flips', 'V'): 1, ('poster', 'N'): 1, ('>', 'E'): 1, ('http://bit.ly/9kmLkS', 'U'): 1, ('somethin', 'N'): 1, ('Axe', 'N'): 1, ('Sometimes', 'L'): 1, ('london', 'N'): 1, ('Help', 'V'): 1, ('First', 'A'): 1, ('Capricorn', 'N'): 1, ('fairness', 'N'): 1, ('http://tinyurl.com/296pwsv', 'U'): 1, ('fact', 'A'): 1, ('Girl', '!'): 1, ('halloween', 'N'): 1, ('On', 'E'): 1, ('gatekeeper-free', 'N'): 1, ('#dosomethingwildvote', '^'): 1, ('@NotSoNiceville', '@'): 1, ('@jonathanhsinger', '@'): 1, ('visit', 'V'): 1, ('effective', 'N'): 1, ('fan', 'N'): 2, ('cheating', 'N'): 1, ('ASSHOLES', 'N'): 1, ('tracked', 'V'): 1, ('software', 'N'): 1, ('Miami', '^'): 3, ('Someone', '^'): 1, ('cancel', 'V'): 1, ('white', 'A'): 1, ('THROUGH', 'D'): 1, ('producer', 'N'): 1, ('Tasting', 'V'): 1, ('shows', 'V'): 1, ('im', 'L'): 5, ('YOU', 'O'): 3, ('@top10seo', '@'): 1, ('Swim', 'N'): 1, ('http://4sq.com/qPmNI', 'U'): 1, (\"You're\", 'L'): 3, ('was', 'V'): 16, ('opinion', 'N'): 1, ('touch', 'N'): 1, ('out', 'P'): 9, ('ce', 'N'): 1, (\"Men's\", 'N'): 1, ('Harley', 'R'): 1, ('involved', 'R'): 1, ('@KingJames', '@'): 1, ('learn', '^'): 1, ('rollin', 'V'): 1, ('+', 'R'): 1, ('hurting', 'V'): 1, ('shooked', 'A'): 1, ('flight', 'V'): 2, ('LMFAOOOOOO', '!'): 1, ('TL', 'N'): 1, ('hours', 'N'): 1, ('poses', 'N'): 1, ('@QuitaBoo_', 'N'): 1, ('stance', 'N'): 1, ('bday', 'N'): 1, ('Fear', 'N'): 1, ('illogical', 'A'): 1, ('McFly', 'D'): 1, ('Outlet', 'N'): 1, ('REIGN', '^'): 1, ('Crossing', 'V'): 1, ('#womp', '!'): 1, ('know', 'V'): 11, ('chris', 'N'): 1, ('Head', 'A'): 1, ('-__-', 'E'): 1, ('Finally', 'R'): 1, ('@NYFarmer', '@'): 1, ('during', 'P'): 1, ('Culd', 'V'): 1, ('Ace', 'N'): 1, ('takin', 'V'): 1, ('without', 'P'): 1, ('Black', '^'): 1, ('If', 'P'): 5, ('#oneofmyfollowers', 'L'): 1, ('NEVER', 'V'): 1, ('spin', 'N'): 1, ('@t_ripley', '@'): 1, ('Jeff', '^'): 1, ('life', 'N'): 4, ('J', 'N'): 1, ('myself', 'P'): 1, ('n', 'P'): 1, ('companies', 'N'): 1, ('Thanks', 'N'): 3, (\"he's\", 'N'): 1, ('heat', 'N'): 1, ('Take', 'V'): 1, ('ahaha', '^'): 1, ('ORLEANS', 'N'): 1, ('Sexy', 'A'): 1, ('Fake', 'A'): 1, ('priority', 'N'): 1, ('sucks', 'V'): 1, ('she', 'O'): 5, ('against', 'P'): 1, ('always', 'R'): 2, ('9780', '$'): 1, ('Fable', '^'): 1, ('dugh', 'A'): 1, ('approve', 'N'): 1, ('inconsiderate', 'N'): 1, ('1995', '$'): 1, ('Mishawaka)', '^'): 1, ('telling', 'V'): 1, ('@john_mason_', '@'): 1, ('Ft', 'N'): 1, ('http://bit.ly/', 'U'): 1, ('Devo', 'R'): 1, ('http://j.mp/bgSJZh', 'U'): 1, ('LOLOLOLOL', '!'): 1, ('DID', 'V'): 1, ('NYC', '^'): 1, ('STRONG', 'N'): 1, ('nuin', 'N'): 1, ('http://tinyurl.com/2bsnsoh', 'U'): 1, ('Willis', 'N'): 1, ('CD+DVD', 'G'): 1, ('-', '~'): 1, ('around', 'N'): 4, ('@Her_Weakness', '@'): 1, ('=)', ','): 1, ('Wow', '!'): 1, ('Stuck', 'N'): 1, ('isnt', 'V'): 1, ('theme', 'A'): 1, ('SHIT', 'N'): 1, ('Barnes', 'N'): 1, ('Right', 'V'): 1, ('3', 'E'): 1, ('BOTH', 'N'): 1, ('@HovitoJr22', '@'): 1, ('Scary', 'R'): 1, ('Bad', 'A'): 1, ('#fail', '!'): 1, ('goodnight', 'N'): 1, ('Ahh', '!'): 1, (\"person's\", 'N'): 1, ('cute', 'A'): 1, ('iLove', 'V'): 1, ('Yup', '@'): 1, ('west', 'N'): 1, ('douches', 'N'): 1, ('@BeautyIsE', '@'): 1, ('@PaigeRyanHouses', '@'): 1, ('http://twitpic.com/31f0rn', 'U'): 1, ('bro', 'A'): 1, ('futures', 'N'): 1, ('Intel', 'V'): 1, ('@KrySpiiCakeD', '@'): 1, ('@yelyahwilliams', '@'): 1, ('I', 'O'): 119, ('apartment', 'N'): 1, ('#FreeQue', '#'): 1, ('it', 'O'): 43, ('Talk', 'V'): 2, ('write', 'V'): 2, ('blobs', 'N'): 1, ('Rape', '^'): 1, ('consult', 'N'): 1, ('article', 'N'): 1, ('SECRET', '~'): 1, ('http://twitpic.com/30vx7s', 'U'): 1, ('@DreOnSum10', '@'): 1, ('freedom', 'N'): 1, ('Most', 'A'): 1, ('Wednesday', 'N'): 1, ('@Janessabombtitz', '@'): 1, ('Messiah', 'N'): 1, ('fish', 'N'): 1, ('did', 'V'): 4, ('Rejuvenation', 'V'): 1, ('regulator', 'N'): 1, ('Venesha', '^'): 1, ('responsible', 'N'): 1, ('followers', 'N'): 1, ('success', 'N'): 1, ('(', ','): 25, ('@Bieber_BabesXP', '@'): 1, ('B4', '$'): 1, ('Birdman', '^'): 1, ('ahahaa', '!'): 1, ('Feels', 'N'): 1, ('Nymgo', 'N'): 1, ('Tummy', 'A'): 1, ('@patronuska', '@'): 1, ('WILL', 'V'): 1, ('Woot', '!'): 1, ('love', 'V'): 9, ('muhaha', 'P'): 1, ('Free', 'A'): 1, ('Party', 'N'): 1, ('teeth', 'N'): 1, ('peopLe', 'N'): 1, ('Bandz', 'N'): 1, ('Marxist', 'N'): 1, ('politician', 'N'): 1, ('FUCKS', 'N'): 1, ('BlackBerry\\xc2\\xae', 'N'): 1, ('2day', 'N'): 1, ('maybe', 'V'): 1, ('hi', 'N'): 1, ('respected', 'A'): 1, ('sarcastic', 'A'): 1, ('6.95', '$'): 1, ('1/2', '$'): 1, ('Trademark', 'N'): 1, ('responsible', 'A'): 1, ('religious', 'N'): 1, ('http://nblo.gs/9IO4o', 'U'): 1, ('wind', 'N'): 1, ('alive', '#'): 1, ('Lawyer', '^'): 1, ('Middle', 'N'): 1, ('nigga', 'N'): 4, ('students', 'N'): 2, ('have', 'V'): 22, ('hair', 'N'): 2, ('doing', 'V'): 3, ('Everyone', 'N'): 1, ('here', 'R'): 13, ('EVAN', '@'): 1, ('Leave', 'V'): 1, ('IF', 'P'): 1, ('Tap', 'V'): 1, ('check', 'V'): 2, ('every', 'R'): 1, ('ICE', '^'): 1, ('music', 'N'): 3, ('@YRSNilla', '@'): 1, ('show', 'N'): 4, ('Frank', 'A'): 1, ('deal', 'N'): 1, ('3', '$'): 2, ('sad', 'A'): 2, ('PERALTA', '^'): 1, ('while', 'P'): 1, ('#fb', '#'): 1, ('scared', 'A'): 2, ('WHERE', 'V'): 1, ('love', '!'): 1, ('Just', 'R'): 5, ('Care', 'N'): 1, ('one', 'N'): 1, ('@kriStenALesE09', '@'): 1, ('@paulscheer', '@'): 1, ('Savvis', 'N'): 1, ('Raising', 'V'): 1, ('messy', 'N'): 1, ('wish', 'V'): 2, ('electric', '^'): 1, ('Heat', '^'): 2, ('yourself', 'O'): 1, ('One', '$'): 1, ('FRANCISCO', 'E'): 1, ('cange', 'N'): 1, ('super', 'R'): 1, ('PLS', 'G'): 1, ('#webcomics', '#'): 1, ('sweepstakesss', 'N'): 1, ('Aint', 'G'): 1, ('@dj_hollygrove', '@'): 1, ('goal', 'N'): 1, ('worth', 'N'): 1, ('fla', '^'): 1, ('Paul', 'N'): 4, (\"''\", 'G'): 2, ('Antoine', 'L'): 1, ('changed', '^'): 1, ('He', 'O'): 1, ('broke', 'N'): 1, ('http://tumblr.com/xwjnd6nzd', 'U'): 1, ('find', 'A'): 1, ('search', 'V'): 1, ('\\xe2\\x99\\xa5', 'E'): 1, ('of', 'P'): 58, ('morning', 'N'): 1, ('durant', 'N'): 1, ('#astdlv', 'N'): 1, ('amazing', 'A'): 1, ('you\\xe2\\x99\\xa5', 'E'): 1, ('Day', 'N'): 1, ('Declaration', '^'): 1, ('ques', 'N'): 1, ('garnish', 'N'): 1, ('thinking', 'A'): 1, ('Caitlin', '^'): 1, ('cards', 'N'): 1, ('@ShowOut_Havy', '@'): 1, ('Tool', 'N'): 1, ('@Reacey23', '@'): 1, ('with', 'N'): 1, ('Min', '^'): 1, ('Still', '^'): 1, ('zone', 'P'): 1, ('dnt', 'N'): 1, ('iight', '!'): 1, ('@THEREALZSWAGG', '@'): 1, ('---', 'G'): 1, ('line', 'V'): 1, ('Dreamweaver', 'N'): 1, ('cnt', 'V'): 1, ('Nintendo', 'N'): 1, ('Gotta', '!'): 1, ('just', 'R'): 10, ('until', 'P'): 2, ('Vinny', 'N'): 1, ('ME', 'O'): 1, ('Effect', 'N'): 1, ('Not', 'N'): 1, ('visions', 'N'): 1, ('play', 'V'): 1, ('direction', '^'): 1, ('1st', 'A'): 1, ('head', 'N'): 3, ('Interested', 'V'): 1, ('Please', 'V'): 2, ('your', 'D'): 22, ('Sundays', 'N'): 1, ('VF20', '$'): 1, ('fml', '!'): 1, ('call', 'V'): 2, ('Starbucks', 'N'): 1, ('\\xee\\x80\\x8eRT', '~'): 1, ('@theonlydmdawson', '@'): 1, ('their', 'D'): 4, ('Yes', '!'): 1, ('outlets', 'N'): 1, ('Exchange', 'O'): 1, ('POLL', 'G'): 1, ('(^_^)', 'E'): 1, ('@docblade', '@'): 1, ('#JuanWilliams', 'L'): 1, ('makers', 'V'): 1, ('@DailySexTips', '@'): 1, ('fired', 'V'): 1, ('tall', 'N'): 1, ('vulecic', 'R'): 1, ('spread', 'V'): 1, ('Sorry', 'G'): 1, ('license', 'N'): 1, ('ALERT', 'N'): 2, ('snow', 'A'): 1, ('#whodoesthat', '#'): 1, ('myself', 'O'): 1, ('amy', '^'): 1, ('@olfa_xoxo', '@'): 1, ('hoody', 'N'): 1, ('http://bit.ly/9jB60g', 'U'): 1, ('@T2Tay75', '@'): 1, ('exam', 'N'): 1, ('#undergradBUDGET', 'N'): 1, ('hi', '!'): 1, ('payton', '^'): 1, ('display', 'N'): 1, ('damn', '^'): 1, ('European', 'V'): 2, ('expect', 'A'): 1, ('why', 'R'): 7, ('@icee_MONROE', '^'): 1, ('@LaBraziliana', '@'): 1, ('http://bit.ly/9Z', 'U'): 1, ('gro', 'N'): 1, ('Lemonade', 'N'): 1, ('13', '$'): 1, (',', ','): 106, ('south\\xe2\\x80\\x94The', 'R'): 1, ('$', 'E'): 1, ('@Soulcialite', '@'): 1, ('well', '!'): 2, ('mine', 'O'): 1, ('annoyed', 'A'): 1, ('it', 'T'): 1, ('trader', 'N'): 1, ('October', '^'): 1, ('child', 'N'): 1, ('both', 'G'): 1, ('@_niquenique', '@'): 1, ('so', 'P'): 7, ('Steel', '^'): 1, ('#stringofpositivethoughts', 'N'): 1, (\"it's\", 'L'): 9, ('or', '&'): 11, ('Too', 'V'): 1, ('yumm', '!'): 1, ('Lambert', '^'): 1, ('@SpankinD', '@'): 1, ('want', 'R'): 1, ('Lindt', '^'): 1, ('online', 'A'): 1, ('tha', 'D'): 2, ('@ohitsKELLY', '@'): 1, ('Investors', 'N'): 1, ('YO', 'O'): 1, ('hoe', 'N'): 1, ('Pissed', '!'): 1, ('Rules', 'V'): 1, ('tho', 'E'): 1, ('more', 'R'): 2, ('miss', 'V'): 1, ('EBITDA', '^'): 1, ('soft', 'N'): 1, ('wooo', 'E'): 1, ('@VEVELADY', '@'): 1, ('@DamnItsTrue', '@'): 1, ('V____V', '!'): 1, ('weird', 'A'): 1, ('@jamesmmnelson', '@'): 1, ('twitter', '^'): 2, ('Fin', '^'): 1, ('http://zagg.to/santa', 'U'): 1, ('Deluxe', 'G'): 2, ('Remember', 'R'): 1, ('FB', 'G'): 1, ('God', '^'): 3, ('orders', 'N'): 1, ('Jesse', '^'): 1, ('8:00', '$'): 1, ('TRICYCLE', 'N'): 1, ('ya', 'O'): 3, ('duh', 'A'): 2, ('>>>', '~'): 1, ('song', 'N'): 3, ('yes', '!'): 3, ('465.00', '$'): 1, ('@IHeartNicole', '@'): 1, ('no', 'D'): 4, ('=', '!'): 1, ('maagic', ','): 1, ('@Caitlin_Hate_', '@'): 1, (\"baby's\", 'N'): 1, ('O', '$'): 1, ('yet', 'R'): 2, ('colors', 'N'): 1, ('Floridian', 'N'): 1, ('Super', 'N'): 1, ('afternoon', '^'): 1, ('Lmao', '!'): 1, ('sea', 'G'): 1, ('Nah', '!'): 1, ('DONT', 'V'): 1, ('Years', 'N'): 1, ('Bailey', '^'): 1, ('AT', 'N'): 1, ('Pictures', 'N'): 1, ('Speak', 'N'): 2, ('dam', 'V'): 1, ('YouTube', '^'): 2, ('Da', '^'): 1, ('#celtics', '^'): 1, ('Arrests', 'L'): 1, ('Toronto)', '^'): 1, (\"it'd\", 'L'): 1, ('maps', 'N'): 1, ('Justin', '^'): 1, ('Runaway', 'N'): 1, ('space', 'N'): 1, ('ago', 'R'): 1, ('idea', 'N'): 1, ('movie', 'N'): 1, ('@corrrrina', '@'): 1, ('interview', 'V'): 1, (\"week's\", 'S'): 1, ('DJs', 'N'): 1, ('arm', 'N'): 1, ('philip', 'N'): 1, ('hard', 'A'): 2, ('RIP', '~'): 1, ('bumpin', 'V'): 1, ('spray', 'N'): 1, ('Lowdown', 'N'): 1, ('sorry', 'A'): 1, ('disappointed', 'V'): 1, ('things', 'N'): 5, ('pure', 'N'): 1, ('Croud', '^'): 1, ('Scorpio', '^'): 1, ('txted', 'V'): 1, ('half', 'N'): 2, ('Yayyyy', 'G'): 1, ('am', 'V'): 9, ('mommma', '^'): 1, ('save', 'V'): 3, ('4', '$'): 2, ('believe', 'V'): 1, ('p', 'G'): 1, ('all', 'X'): 8, ('Sweet', 'N'): 1, ('really', 'R'): 9, ('balconies', 'N'): 1, ('pair', 'N'): 1, ('Governor', 'N'): 1, ('An', '&'): 1, ('Go', 'V'): 1, ('Corner', 'N'): 1, ('COIN', '^'): 1, ('signed', 'V'): 1, ('to', 'P'): 112, ('hear', 'V'): 2, ('gud', '@'): 1, ('shout', 'N'): 1, ('Yayyy', 'G'): 1, ('hate', 'V'): 3, ('Things', 'N'): 1, ('smells', 'V'): 1, ('d', 'N'): 2, ('@tnice_0126', '@'): 1, ('@serenawilliams', '@'): 1, ('worst', 'N'): 2, ('@dwright1906', '@'): 1, ('her', 'O'): 5, ('ph', 'N'): 1, ('Lets', 'L'): 1, ('Gonna', '^'): 1, ('Offer', 'N'): 1, ('luckily', 'N'): 1, ('Really', 'N'): 2, (\"That's\", 'L'): 2, ('Smash', 'G'): 1, ('World', 'N'): 1, ('poverty', 'N'): 1, ('tolerate', 'V'): 1, ('nothing', 'A'): 1, ('been', 'V'): 3, ('Stay', 'N'): 1, ('smack', 'V'): 1, (\"Sear's\", 'N'): 1, ('@MissCoxNorris', '@'): 1, ('Kanye', '^'): 1, ('copies', 'N'): 1, ('way', 'N'): 3, ('Lamar', '!'): 1, ('pounding', 'G'): 1, ('R)', ','): 1, ('LMMFFO', '!'): 1, ('court', 'N'): 1, ('SILVER', 'P'): 1, ('stone', 'R'): 1, ('down', 'N'): 3, ('fuck', 'A'): 1, ('next', 'P'): 1, ('literally', 'V'): 1, ('@ENewsNow', '@'): 1, ('Love', 'V'): 1, ('BFF', 'N'): 1, ('lol', '!'): 29, ('praised', 'V'): 1, ('nervous', 'R'): 1, ('his', 'D'): 3, ('JUST', 'R'): 1, ('Into', 'P'): 1, ('IT', 'O'): 2, ('could', 'V'): 1, ('@insanityreport', '@'): 1, ('@deefizzy', '@'): 1, ('sophistication', 'N'): 1, ('pleased', 'V'): 1, ('Sleepover', '^'): 1, ('Tells', 'N'): 1, ('@PRETTY_iN_TiNK', '@'): 1, ('everything', 'N'): 1, ('|', 'G'): 3, ('@Game_2_Gamer', '@'): 2, ('To', 'R'): 1, ('Misery', '^'): 1, ('heart', 'V'): 1, ('@kristenmchugh22', '@'): 1, ('e', 'N'): 2, ('HAHAHAHA', '$'): 1, ('Hoover', '^'): 1, ('http://bit.ly/9g4zlQ', 'U'): 1, ('comments', 'V'): 1, ('Shake', 'V'): 1, ('Tek', 'N'): 1, ('prettiest', 'A'): 1, ('http://j.mp/cXjoCU', 'U'): 1, ('#GP', '^'): 1, ('Doing', 'V'): 1, ('#fairtrade', 'V'): 1, ('he', '!'): 1, ('foo', 'R'): 1, ('@YoungJeezy', 'N'): 1, ('@maryjblige', '@'): 1, ('needing', 'V'): 1, ('backpacks', 'N'): 1, ('Dubby', 'A'): 1, ('?', ','): 71, ('bootyyy', 'N'): 1, ('sexy', 'N'): 1, ('http://bit.ly/aguPgx', 'U'): 1, ('mbah', 'E'): 1, ('back', 'N'): 3, ('@Naturalyfe', '@'): 1, ('@MacTalian', '@'): 1, ('insulation', 'P'): 1, ('Nevermind', 'V'): 1, ('end', 'N'): 1, ('#CAsen', 'R'): 1, ('JUST', 'V'): 1, ('Thursday', 'A'): 1, ('stopping', 'V'): 1, ('#gadget', '#'): 1, ('@GormondKing', '@'): 1, ('XDD', 'E'): 1, ('@BrilliantTips', '@'): 1, ('Reasons', 'N'): 1, ('say', 'V'): 8, ('putting', 'V'): 1, ('Thru', 'O'): 2, ('=]', 'V'): 1, ('rice', 'N'): 1, ('#ManLaw', 'V'): 1, ('brother', 'N'): 1, ('Metro', '^'): 1, ('song', 'V'): 1, ('@sullivanbc', '@'): 1, ('Library', 'N'): 1, ('context', 'N'): 1, ('@supTAY', '@'): 1, ('(@', 'G'): 1, ('Happy', 'A'): 2, ('Was', 'V'): 1, ('Mini', '^'): 1, ('finally', 'V'): 1, ('Tryin', 'V'): 1, ('Wholesale', '!'): 1, ('installing', 'V'): 1, ('Tired', 'A'): 1, ('Centre', 'N'): 1, ('@Jazzyb601', '@'): 1, ('Massacre', '^'): 1, ('@KevinKoolKev', '@'): 1, ('AMAZINE', 'A'): 1, ('Deliver', 'P'): 1, ('http://bit.ly/d8RwDw', 'U'): 1, ('tomorrow', 'N'): 1, ('Cool', 'A'): 1, ('phone', 'N'): 3, ('Tags', 'N'): 1, ('is', 'D'): 1, ('worse', 'V'): 1, ('Seguins', 'V'): 1, ('died', 'V'): 1, ('theN', 'P'): 1, ('Lil', '^'): 1, ('BANGTIMEEEEEEEEEEEEEEEEEEEE', '!'): 1, ('miles', 'N'): 1, ('\\xe2\\x80\\x93', ','): 2, ('agree', 'V'): 1, ('would', 'V'): 7, ('sleep', 'N'): 4, ('person', 'N'): 4, ('--', ','): 4, ('thx', 'N'): 1, ('.\"', ','): 1, ('@dheaaw', '@'): 1, ('http://moby.to/op9mgt', 'U'): 1, ('deserves', 'V'): 1, ('WORK', 'N'): 1, ('Posados', 'N'): 1, ('Hi', '@'): 1, ('@Luv_KayBee', '@'): 1, ('getting', 'V'): 2, ('12', '$'): 2, ('fixed', 'V'): 1, ('@Tab_28', '@'): 1, ('VALID', 'N'): 1, ('falling', 'V'): 1, ('Radio', '^'): 1, ('Liquid', '^'): 1, ('29', '$'): 2, ('@AddThis', '@'): 2, ('fairy', 'N'): 2, ('b/c', 'P'): 1, ('NEW', 'N'): 1, ('one', '$'): 14, ('ppl', 'N'): 3, ('charge', 'V'): 1, ('legal', '^'): 1, ('Social', '^'): 2, ('diddy', 'G'): 1, ('Dollar', 'N'): 1, ('curiosity', 'R'): 1, ('Donaudy', '^'): 1, ('the', 'D'): 130, ('Jay', '^'): 1, ('pee', 'N'): 1, ('Soccer', '^'): 1, ('Minho', 'O'): 1, ('<<', '~'): 3, ('SNICKERS', 'R'): 1, (']', '~'): 1, ('@AlwaysMe_21', '@'): 1, ('):', ','): 1, ('@LogicDriven', '@'): 1, ('eat', '^'): 1, ('From', 'P'): 2, ('hahaha', '!'): 1, ('wedding', 'N'): 1, ('Lancaster', '^'): 1, ('tweet', 'V'): 1, ('SEATTLE', '^'): 1, ('There', 'X'): 3, ('business', 'N'): 1, ('Rwanda', '^'): 1, ('http://r.einnews.com/kdTqUB', 'U'): 1, ('KNOW', 'V'): 1, ('case', 'N'): 1, ('issue', 'N'): 1, ('Benadryl', 'L'): 1, ('Brb', '^'): 1, (\"can't\", 'V'): 8, ('officials', 'N'): 1, ('yu', 'O'): 3, ('Ready', 'V'): 1, ('vow', 'V'): 1, ('TWEET', 'V'): 1, ('http', 'U'): 1, (\"Don't\", 'V'): 1, ('http://4sq.com/b3s9KJ', 'U'): 1, ('Ad', 'E'): 1, ('Analyst', 'N'): 1, ('constitutes', 'V'): 1, ('control', 'N'): 1, ('World', '^'): 1, ('waste', 'N'): 1, ('MSFT', 'V'): 1, ('others', 'V'): 1, ('redistricting', 'A'): 1, ('@richkid129', '@'): 2, ('jump', 'N'): 1, ('true', 'A'): 1, ('deep', 'N'): 1, ('stop', 'V'): 2, ('@JonVonDutch', '@'): 1, ('Bold\\xe2\\x84\\xa2', 'P'): 1, ('6:30', '$'): 1, ('deleted', 'V'): 1, ('there', 'D'): 1, ('equality', 'N'): 1, ('helped', 'V'): 1, ('#FiredUp', 'V'): 1, ('Network', 'N'): 1, ('4th', 'A'): 1, ('ugliest', 'N'): 1, (\"it'5\", '$'): 1, ('nice', 'A'): 1, ('bowl', '!'): 1, ('bad', 'A'): 2, ('big', 'A'): 3, ('how', 'R'): 11, ('#psd', '#'): 1, ('enemy', 'N'): 1, ('Lying', 'V'): 1, ('damn', '!'): 2, ('get', 'V'): 17, ('@Raypman', '@'): 1, ('rae', 'N'): 1, ('real', 'A'): 2, ('temp-new', 'N'): 1, ('now', 'R'): 12, ('Beat', '^'): 1, ('http://bit.ly/9tSFFI', 'U'): 1, ('Review', 'N'): 1, ('enviroment', 'N'): 1, ('Loko', '^'): 1, ('SHOOTING', 'E'): 1, ('Will', 'V'): 1, ('claims', 'N'): 1, ('#CAgov', 'A'): 1, ('Wednesday', '!'): 1, ('Justsayin', 'R'): 1, ('Adjusted', '^'): 1, ('@MisterSykhotic', '@'): 1, ('9', '$'): 1, ('three', '$'): 1, ('Noble', 'N'): 1, ('#prayforindonesia', '^'): 1, ('loving', 'V'): 1, (',...', ','): 1, ('thank', 'V'): 2, ('month', 'N'): 2, ('about', 'P'): 21, ('Hit', 'A'): 1, ('illiterate', 'N'): 1, ('Bands', 'A'): 1, ('D', '^'): 1, ('@BeautifulWish', '@'): 1, ('Claw', '^'): 1, ('Friday', '^'): 2, ('Bonanza', '^'): 1, ('LMFAO', '!'): 1, ('sunny', 'V'): 1, ('Start', '^'): 1, ('style', 'N'): 1, ('eat', 'V'): 3, ('@Baby_thug2011', '$'): 1, ('Put', 'V'): 1, ('FUCK', 'R'): 1, ('Vintage', 'V'): 1, ('nobody', 'R'): 1, ('#CAgov', '^'): 1, ('@Anthony1626', '@'): 1, ('Stacks', 'N'): 1, ('Wed', 'A'): 1, ('A', 'N'): 1, ('stupid', 'N'): 1, ('Painting', 'V'): 2, ('#niggaplz', '#'): 1, ('80s', 'N'): 1, ('major', 'A'): 1, ('dying', 'V'): 1, ('guesssss', 'V'): 1, ('tell', 'N'): 1, ('pretty', 'A'): 1, ('Orthopedic', '^'): 1, ('#twitterafterdark', '^'): 1, ('Gutted', 'A'): 1, ('country', 'N'): 2, ('Ron', '^'): 1, ('dis', 'D'): 1, ('ima', 'L'): 1, ('Sucks', 'N'): 1, ('bunch', 'N'): 1, ('rock', 'N'): 1, ('sauce', 'A'): 1, ('film', 'V'): 1, ('1-0', '$'): 1, ('Distortion', 'N'): 1, ('newest', 'A'): 1, ('App', '^'): 1, ('ME\\xe2\\x80\\x9d', '^'): 1, ('friday', 'P'): 1, ('2', 'R'): 7, ('doors', 'N'): 1, ('...', ','): 41, ('#WiW', 'G'): 1, ('2nd', 'A'): 1, ('yo', '!'): 1, ('--', '~'): 1, ('passes', 'N'): 1, ('@KJFrederick', '@'): 1, ('nerves', 'N'): 1, ('room', 'N'): 1, ('@latenitedame', '@'): 1, ('@Princessnish', '@'): 1, ('Dodson', 'V'): 1, ('S/O', 'V'): 1, ('give', 'V'): 4, ('announce', 'V'): 1, ('heel', 'N'): 1, ('seeing', 'V'): 1, ('decorating', 'V'): 1, ('radio@webuildhits.com', 'N'): 1, ('compliments', 'N'): 1, ('http://huff.to/aQ8vFr', 'U'): 1, (\"Ss's\", '^'): 1, ('adults', 'N'): 1, ('TYRONE', 'V'): 1, ('@stetted', '@'): 1, ('@RaqVillaYFT', '@'): 1, ('mac', '@'): 1, ('LOVE', 'A'): 1, ('hum', 'A'): 1, ('#strengths', 'N'): 1, ('username', 'N'): 1, ('@NoraDiva1', '@'): 1, ('2008', '$'): 1, ('ft', 'V'): 1, ('world', 'N'): 1, ('email', 'N'): 1, ('fast', 'A'): 1, ('want', 'V'): 11, ('be', 'V'): 29, ('our', 'D'): 3, ('crap', 'N'): 2, ('http://tinyurl.com/3yagowf', 'U'): 1, ('suggest', 'V'): 1, ('all', '!'): 1, ('November', 'D'): 1, ('perspective', 'N'): 1, ('fat', 'N'): 1, ('bitches', 'N'): 1, ('all', 'D'): 4, ('tht', 'O'): 1, ('AYYEE', 'V'): 1, ('follow', 'V'): 3, ('hopefully', 'E'): 1, ('http://bit.ly/dCzh3o', 'U'): 1, ('Everybody', 'N'): 1, ('win', 'N'): 1, ('fans', 'N'): 1, ('Mary', '^'): 2, ('Move', 'A'): 1, ('THE', 'D'): 3, ('first', 'N'): 1, (\"i'm\", 'L'): 1, ('ferris', 'N'): 1, ('@OhAshleyMarieee', '@'): 1, ('@J_Cofield_TIC', '@'): 1, ('Delivers', 'N'): 1, ('Yonge', 'L'): 1, ('!!', ','): 32, ('http://lnk.ms/DczKm', 'U'): 1, ('@', 'P'): 2, ('Straight', 'N'): 1, ('@MONEYMURPH', '@'): 1, ('community', 'N'): 1, ('things', 'D'): 1, ('http://tl.gd/6mcie2', 'U'): 1, ('This', 'D'): 6, ('ok', '!'): 2, ('#thingsyouwishyoucouldsaybutcant', '#'): 1, ('http://openings.cmi.com/opening', 'U'): 1, ('gtfo', 'R'): 1, ('BECAUSE', 'A'): 1, ('voice', 'N'): 2, ('ideas', 'N'): 1, ('http://bit.ly/9Dv5sQ', 'U'): 1, ('Sections', 'N'): 1, ('@Clotta22', '@'): 1, (\"it'll\", 'L'): 1, (':', 'E'): 3, ('those', 'D'): 1, ('mind', 'V'): 1, ('nothing', '!'): 1, ('Gift', 'N'): 1, ('idk', 'L'): 1, ('Technical', 'N'): 1, (\"Pierce's\", 'N'): 1, ('You', 'O'): 12, ('buy', 'V'): 1, ('Avenue', '^'): 1, ('#TSU', '#'): 1, ('an', 'D'): 6, ('\\xe2\\x99\\x8f', 'O'): 1, ('captcha', 'N'): 1, ('!!!!!!', ','): 1, ('Ewoks', 'N'): 1, ('3pk', 'N'): 1, ('knew', 'V'): 1, ('Hoon', '^'): 1, ('can', 'V'): 11, ('ripping', 'V'): 1, (\"Tonight's\", 'N'): 1, ('Reach', '^'): 1, ('a', 'D'): 83, (\"wouldn't\", 'V'): 2, ('\\xe2\\x80\\x9c', '~'): 3, ('Southern', 'N'): 1, ('jail', '^'): 1, ('SEE', 'V'): 1, ('beautiful', 'A'): 1, ('Arranging', 'V'): 1, ('marijan', 'E'): 1, ('Off', 'P'): 2, ('^DJ', 'E'): 1, ('Somebody', '^'): 1, ('ready', 'N'): 1, (':', ','): 30, ('dope', 'N'): 1, ('...:', ','): 1, ('Neva', '^'): 1, ('sign', 'N'): 1, ('Gumdrop', '^'): 1, ('McNulty', '^'): 1, ('using', 'V'): 1, ('trash', '!'): 1, (\"won't\", 'V'): 1, ('http://ping.fm/rFR1b', 'U'): 1, ('Sleep', 'N'): 1, ('storm', 'N'): 1, ('3rd', 'A'): 1, ('biggems', 'N'): 1, ('\\xe2\\x98\\xb9', 'G'): 1, ('@LiveSquadEnDee', '@'): 1, ('parking', 'N'): 1, ('Its', 'L'): 5, ('#NBA2K11', '#'): 1, ('@_bobbydigital', '@'): 1, ('code', 'N'): 2, ('wanted', 'V'): 1, ('mom', 'N'): 3, ('members', 'N'): 1, ('HURTS', 'V'): 1, ('VH1', '$'): 1, ('thinks', 'V'): 1, ('wisely', 'G'): 1, ('James', '^'): 1, ('going', 'V'): 5, ('teacher', 'N'): 1, ('crowded', 'V'): 1, ('@ganjaboy74', '@'): 1, ('realises', 'V'): 1, ('load', 'N'): 1, (\"'.\", ','): 1, ('#tomorrow', '^'): 1, ('son', 'N'): 1, ('@SoulPudding', '@'): 1, ('YOOOO', 'O'): 1, ('bring', 'V'): 1, ('+', 'L'): 1, ('Gracias', 'N'): 1, ('Happiness', 'N'): 1, (\"haven't\", 'V'): 1, ('@ChelseaxMaraj', '@'): 1, ('^_^', 'E'): 1, ('brought', 'V'): 1, ('@DaveTheGame', '@'): 1, ('loc', '!'): 1, ('Again', '^'): 1, ('running', 'V'): 1, ('mind', 'N'): 1, ('O', '^'): 1, ('@iGetReTaRdCheKz', '@'): 1, ('unfolds', 'N'): 1, ('APPCRAFT', '~'): 1, ('replies', 'V'): 1, ('@NickiMinaj', '!'): 1, ('tomahawk', 'N'): 1, ('..', ','): 27, ('takke', 'N'): 1, ('http://youtu.be/O5Yj3BzkgB4?a', 'U'): 1, ('u', 'P'): 1, ('beloved', 'A'): 1, ('yard', 'A'): 1, ('#stfu', 'O'): 1, ('dundas', 'N'): 1, ('NOVA', '^'): 1, ('Aqwmv', '^'): 1, ('Miley', 'N'): 1, ('theft', 'N'): 1, ('#news', '#'): 1, ('which', 'D'): 2, ('green', 'A'): 1, ('absolutely', 'R'): 1, ('story', 'N'): 1, ('o', '~'): 1, ('submission', 'N'): 1, ('18/8', '$'): 1, ('#agreed', '#'): 1, ('rid', 'N'): 1, ('with', 'P'): 27, ('people', 'N'): 4, ('@masdumas', '@'): 1, ('Surprised', 'V'): 1, ('scootandboo\\xc2\\xae', 'G'): 1, ('so', 'R'): 14, ('@JBieberzLuvies', '@'): 1, ('options', 'N'): 1, ('OBTS', 'G'): 1, ('Half', 'N'): 1, ('bout', 'N'): 1, ('@deannammorris', '@'): 1, ('perfect', 'N'): 1, ('Ping', '!'): 1, ('steep', 'A'): 1, ('#RTthis', '#'): 1, ('ways', 'N'): 1, ('is', 'V'): 42, ('sleep', 'R'): 1, ('Macdonalds', 'N'): 1, ('http://t.co/8yp42yR', 'U'): 1, ('My', 'D'): 11, ('http://bit.ly/aH0QX3', 'U'): 1, ('costume', 'N'): 3, ('clean', 'V'): 1, ('#TeamLighterThanABlackGuyButStillMexicanLikeFrankButHeJustWontAdmitHeIsAMexican', '#'): 1, ('aha', '^'): 1, ('Bommm', 'G'): 1, ('@Dolce01', '@'): 1, ('<', '~'): 1, ('ON', 'P'): 1, ('http://bit.ly/apTkEK', 'U'): 1, ('engines', 'V'): 1, ('7:30', '$'): 2, ('Fed', 'N'): 1, ('like', 'V'): 5, ('http://bit.ly/aabJGK', 'U'): 1, ('Base', '^'): 1, ('http://yearbook.com/a/pe81j', 'U'): 1, ('Departure', '^'): 1, ('Mars', '^'): 1, ('@trent_wierd_azz', '@'): 1, ('Boston', '^'): 2, ('bet', 'V'): 1, ('True', 'N'): 1, ('fuck', 'V'): 2, ('A', 'D'): 5, ('@primosquad', '@'): 1, (\"Let's\", 'L'): 1, ('pics', 'N'): 1, ('basketball', 'N'): 2, ('Ah', '!'): 1, ('http://ht.ly/30hL9', 'U'): 1, ('all', 'R'): 1, ('35', '$'): 1, ('Stainless', 'N'): 1, ('mouth', 'V'): 1, ('LMAOOO', '!'): 1, ('#smittenontwitter', 'N'): 1, ('klass', '^'): 1, ('@mtnridge', '@'): 1, ('Smh', 'G'): 1, ('drunk', 'V'): 2, ('wont', 'V'): 1, ('PLZ', '@'): 1, (')', ','): 13, ('started', 'V'): 1, ('between', 'P'): 1, ('sure', 'A'): 3, ('wana', 'V'): 1, ('type', 'V'): 1, ('then', 'P'): 2, ('@contraddiction', '@'): 1, ('Joe', '^'): 1, ('socks', 'N'): 1, ('papers', 'N'): 1, ('normal', 'N'): 1, ('smh', 'G'): 1, ('Reserve\\xe2\\x80\\x99s', 'N'): 1, ('5th', '^'): 2, ('short', 'N'): 1, ('@MileyRAWRx', '@'): 1, ('happiness', 'N'): 1, (\"doesn't\", 'V'): 1, ('Everybody', 'R'): 1, ('http://tinychat.com/THEJOKers', 'U'): 1, ('#1', '^'): 1, ('game', 'N'): 4, ('Drops', 'N'): 1, ('legit', 'R'): 1, ('<---', '~'): 1, ('@T_Kane', '@'): 1, ('@inglewoodtip', '@'): 1, ('line', 'N'): 1, ('Cuba', '^'): 1, ('#antichristian', '^'): 1, ('Bryant', 'N'): 1, ('LIVE', 'A'): 1, ('http://tin', 'U'): 1, ('MN', '^'): 1, ('@jeffbeamish', '@'): 1, ('@MobileCams', '@'): 1, ('date', 'N'): 2, ('Kat', '^'): 1, ('p***y', 'N'): 1, ('@iphoneworld', '@'): 1, ('http://bit.ly/b3A6se', 'U'): 1, ('them', 'O'): 7, ('glory', 'N'): 1, ('Kitchen', '^'): 1, ('wants', 'V'): 2, (')', 'E'): 11, ('took', 'V'): 3, ('@disneywords', '@'): 1, ('tears', 'N'): 1, ('like', 'P'): 19, ('once', 'P'): 1, ('!!!!!', ','): 1, ('happy', '!'): 1, ('tired', 'V'): 1, ('few', 'N'): 2, (']', 'E'): 1, ('knicks', 'N'): 1, ('Gaga', '^'): 1, ('looks', 'V'): 4, ('THAT', 'D'): 1, ('care', 'V'): 3, ('snowy', 'N'): 1, ('make-out', 'A'): 1, ('agrees', 'N'): 1, ('@woogis', 'L'): 1, ('#cheapasses', 'V'): 1, ('bands', 'N'): 1, ('system', 'N'): 1, (\"he'd\", 'V'): 1, ('FUCC', 'G'): 1, ('planners', 'N'): 1, ('forth', '!'): 1, ('*', ','): 14, ('communities', 'N'): 1, ('location', 'N'): 1, ('#stopit5', '$'): 1, ('protection', 'N'): 1, ('letsgo', '!'): 1, ('backdrop', 'N'): 1, ('Lebron', '^'): 1, ('@jameyjasta', '@'): 1, ('Jackson', '^'): 2, ('farmers', 'N'): 1, ('Tips', 'N'): 1, ('odom', 'N'): 1, ('Christmas', '^'): 3, ('T-Mobile', '^'): 1, ('Lamar', '^'): 2, ('Actress', 'N'): 1, ('skype', 'N'): 1, ('stileto', 'N'): 1, ('T______________________________________________T', '!'): 1, ('=)', 'E'): 1, ('Did', 'V'): 3, ('completely', 'N'): 2, ('Duff', 'P'): 1, ('off', 'N'): 1, ('Charlie', '^'): 1, ('HABLO', '!'): 1, ('were', 'V'): 3, (\"pig's\", 'N'): 1, ('chilled', 'A'): 1, ('Fuck', 'V'): 1, ('english', 'A'): 1, ('horrible', 'N'): 1, ('w/', 'P'): 2, ('sometimes', 'N'): 1, (\"i'm\", 'R'): 1, ('Ford', 'N'): 1, ('most', 'N'): 2, ('Data', '^'): 1, ('Costco', '@'): 1, ('week', 'N'): 3, ('Kobe', '^'): 1, ('Paul', 'V'): 1, ('@fuelevandown', '@'): 1, ('ill', 'N'): 1, ('Some', '^'): 1, ('(:', 'E'): 5, ('mixed', 'A'): 1, ('hazard', 'V'): 1, ('found', 'V'): 1, ('many', 'A'): 1, ('Goal', '^'): 1, ('Boots', '^'): 1, ('Varsha', 'L'): 1, ('basically', 'A'): 1, ('YUK', '!'): 1, ('from', 'P'): 13, ('blame', 'V'): 1, ('thang', 'V'): 1, ('homie', 'N'): 1, ('Stop', 'V'): 1, ('@Gallis_', '@'): 1, ('Potential', 'N'): 1, ('Whfft', 'R'): 1, ('HATER', 'P'): 1, ('#Answers', '#'): 1, ('charges', 'N'): 1, ('playin', 'V'): 1, ('Glitter', '^'): 1, ('aka', 'G'): 1, ('@misstrixsie', '@'): 1, ('Hillary', 'N'): 1, ('Catholics\\xe2\\x80\\x99', 'N'): 1, ('proud', 'A'): 1, ('Part', 'N'): 1, ('high', 'N'): 2, ('@SeaShepherd', '@'): 1, ('Thir', 'D'): 1, ('link', 'N'): 1, ('cut', 'P'): 1, ('played', 'V'): 1, ('hey', '!'): 1, ('tyrone', 'N'): 1, ('McConaughey', 'N'): 1, ('http://ow.ly/2ZYns', 'U'): 1, ('dashboard', 'N'): 1, ('http://cli.gs/E4rms', 'U'): 1, ('@LiteskinnBEAUTY', '@'): 1, ('THE', 'V'): 1, ('rite', '!'): 1, ('DOWN', 'V'): 1, ('@', 'N'): 1, ('http://www.youtube.com/user/topcent#p/a/u/2/0qqU7OVFdsw', 'U'): 1, ('scotch', 'N'): 1, ('G', ','): 1, ('With', 'P'): 2, ('send', 'V'): 4, ('comment', 'V'): 2, (\"She's\", 'V'): 1, ('Kollar', '^'): 1, (\"sunday's\", 'N'): 1, ('sequal', 'N'): 1, ('Do', 'V'): 3, ('Single', 'N'): 1, ('said', 'V'): 3, ('p.m.', 'N'): 1, ('hair', '!'): 1, ('@joemo11', '@'): 1, ('#sexy', 'N'): 1, ('worse', 'A'): 1, ('@jackpittgregor', '@'): 1, ('+', 'V'): 1, ('ahhhhhhhhh', 'A'): 1, ('Entry', 'V'): 1, ('lungs', 'N'): 1, ('reinstalled', 'A'): 1, ('airport', 'V'): 1, ('woke', 'N'): 1, ('bread', 'N'): 1, ('10093', '$'): 1, ('jus', 'L'): 1, ('Spreyn0', '$'): 1, ('juss', 'N'): 1, ('watch', 'V'): 2, ('yo', 'D'): 1, ('Suite', 'V'): 1, ('message', 'N'): 2, ('http://4sq.com/4O7ScT', 'U'): 1, ('in', 'P'): 58, ('@500Pearls', '@'): 1, ('Fantasy', '^'): 1, ('riding', '!'): 1, ('minds', 'N'): 1, ('year', 'N'): 1, ('table', 'N'): 1, ('bear', 'N'): 1, ('George', 'N'): 1, ('------>', '~'): 1, ('http://bit.ly/baupGs', 'U'): 1, ('new', 'A'): 7, ('Fable', 'A'): 1, ('must', 'V'): 1, ('mean', 'N'): 1, ('Any', 'D'): 1, ('ache', 'V'): 1, ('http://t.co/Qcq7TxT', 'U'): 1, ('some', 'N'): 2, ('why', 'N'): 1, ('Today', 'N'): 3, ('GEMS', 'N'): 1, ('dunk', 'N'): 1, ('love', 'N'): 3, ('@RenziKyng', '@'): 1, ('Jesus', 'N'): 1, ('Kids', '^'): 1, ('HAHAHA', '!'): 1, ('ask', 'V'): 3, ('Who', 'O'): 3, ('Lies', 'N'): 1, ('@Princezzcutz', '@'): 1, ('ring', 'N'): 1, ('http://bit.ly/bABShU', 'U'): 1, ('#CNS', '!'): 1, ('jquery', 'N'): 1, ('floating', 'V'): 1, ('mins', 'N'): 1, (\"he's\", 'L'): 4, ('Brandon', '^'): 1, ('hardware', 'V'): 1, ('bless', 'N'): 1, ('HORROR', '!'): 1, ('Weezer', 'L'): 1, ('umm', '!'): 1, ('Year', '&'): 1, ('seen', 'V'): 1, ('@angiemonsterboo', '@'): 1, ('nosy', '!'): 1, ('\\xee\\x84\\x87RT', '~'): 1, ('NIGHT', 'N'): 1, ('chillin', 'V'): 1, ('@gchance', '@'): 1, ('@rsvpweddingdiva', '@'): 1, ('shirtless', 'N'): 1, ('The', 'D'): 12, ('#Sexstrology', 'N'): 1, ('/Brown', 'N'): 1, ('B', ','): 1, ('SLC', '^'): 1, ('Enough', 'A'): 1, ('@jenga5', '@'): 1, ('@grasmeyer', '@'): 1, ('officer', 'N'): 1, ('\"', ','): 35, ('last', 'A'): 5, ('17th', 'N'): 1, ('enter', 'V'): 1, ('no', 'R'): 1, ('asleep', 'R'): 1, ('marriage', 'N'): 2, ('tried', 'V'): 1, ('next', 'N'): 2, ('hungry', 'A'): 1, ('shadow', 'N'): 1, ('NO', '!'): 2, ('long', 'V'): 1, ('PLUS', '^'): 1, ('BITCH', 'V'): 1, ('earth', 'A'): 1, ('run', 'V'): 2, ('Find', 'V'): 1, ('http://bit.ly/aoFyID', 'U'): 1, ('Out', 'V'): 1, ('@KevinHart4real', '@'): 1, ('make', 'V'): 3, ('........', ','): 1, ('Can', 'V'): 4, ('club', 'N'): 2, ('@MichelleWidjya', '@'): 1, ('texas', 'N'): 2, ('In', 'P'): 4, ('words', 'N'): 1, ('respect', 'N'): 1, ('lavish', '!'): 1, ('@iMekele', '@'): 1, ('@Phi_06', '@'): 1, ('Silly', 'R'): 1, ('ht', 'U'): 1, ('had', 'V'): 6, ('anything', 'N'): 1, ('Few', 'N'): 1, ('#youreaninnovator', '!'): 1, ('postpone', 'A'): 1, ('awesome', 'A'): 1, ('#ialreadytoldyou', 'G'): 1, ('#OP', '^'): 1, ('17%', '^'): 1, ('ima', '!'): 1, ('name', 'A'): 1, ('KOBE', '^'): 2, ('TJ', '@'): 1, ('situation', 'N'): 1, ('4th', 'N'): 1, ('plus', 'N'): 1, ('Song', 'V'): 1, ('Disturbia', 'N'): 1, ('am', 'N'): 1, (\"Frank's\", 'N'): 1, (\"wasn't\", 'V'): 2, ('@_SoDamnGood_', '@'): 1, ('5', '^'): 1, ('fingers', 'N'): 1, ('Cirus', 'N'): 1, ('Aw', 'R'): 1, ('obsession', 'N'): 1, ('4.25', '$'): 1, ('support', 'V'): 1, ('Shiiit', 'V'): 1, ('@fairtradeusa', 'V'): 1, ('quick', '^'): 1, (\"who's\", 'L'): 1, ('.', ','): 226, ('Alive', '^'): 1, ('worried', 'V'): 1, ('#teamgreen', '^'): 1, ('hope', 'V'): 2, ('came', 'V'): 3, ('@ExQuisiteLook', '@'): 1, ('wild', 'V'): 1, ('us', 'O'): 3, ('every', 'D'): 2, ('dont', 'V'): 6, ('little', 'V'): 2, ('@SammyAmsterdam', '@'): 1, ('http://bit.ly/kKth4', 'U'): 1, ('dat', 'D'): 2, ('much', 'R'): 3, ('http://gowal.la/c/2LZTG?137', 'U'): 1, ('http://www.internetevolution.com/author.asp?section_id=1087', 'U'): 1, ('jobs', 'N'): 1, ('policies', 'N'): 1, (',\"', ','): 1, ('Great', 'A'): 1, ('rather', 'R'): 1, ('media', 'N'): 1, ('jenny', 'A'): 1, ('Now', 'N'): 3, ('Is', 'V'): 3, ('#mobileartcon', 'G'): 1, ('Adaptors', '^'): 1, ('album', '!'): 1, ('Smells', 'N'): 1, ('bipashasharma29', '@'): 1, ('probably', 'N'): 1, ('TIME', 'V'): 1, ('apron', 'N'): 1, ('!!!!!!!', ','): 1, ('part', 'N'): 2, ('covers', 'N'): 1, ('carve', 'V'): 1, ('swear', 'V'): 1, ('Revenue', 'N'): 1, ('done', 'V'): 2, ('Hopin', 'V'): 1, ('Cove', 'N'): 1, ('VIDEO', '@'): 1, ('Jesus', '^'): 1, ('better', 'A'): 2, ('@NaeGotEmGeekin', 'N'): 1, ('Naked', 'N'): 1, ('@FRSHFRD', '@'): 1, ('Votes', 'N'): 1, ('TOOO', 'R'): 1, ('Fmlllll', '!'): 1, ('@WhiteHouse', '@'): 1, ('everyone', 'N'): 1, ('u.s.', '$'): 1, ('Well', '!'): 1, ('everyones', 'N'): 1, ('talking', 'V'): 2, ('Virtually', 'N'): 1, ('wonder', 'V'): 1, ('@AdamsMom76', '@'): 1, ('question', 'V'): 1, ('lobby', 'N'): 1, ('Obama', '^'): 2, ('Mayonnaise', 'N'): 1, ('Sweater', 'N'): 1, ('ass', 'N'): 8, ('christovale', 'N'): 1, ('Superman', 'N'): 1, ('MFA', 'N'): 1, ('offers', 'N'): 1, ('vote', 'V'): 1, ('hour', 'N'): 3, ('@SummerzGRT', '~'): 1, ('lingo', 'N'): 1, ('@btmerr', '@'): 1, ('evening', 'N'): 1, ('ball', 'N'): 1, ('well', 'A'): 1, ('dadt', 'N'): 1, ('On', 'P'): 7, ('Toni', '^'): 1, ('fast', 'N'): 1, ('obama', 'V'): 1, ('tech', 'N'): 1, ('happy', 'A'): 2, ('sing', 'V'): 1, ('@jaketapper', '@'): 1, ('keys', 'V'): 1, ('@naddycat', '@'): 1, ('vengoo', 'R'): 1, ('unsent', 'A'): 1, ('13%', '^'): 1, ('they', 'O'): 12, ('mint', 'N'): 1, ('better', 'R'): 2, ('Eek', '!'): 1, ('where', 'R'): 7, ('#intlib10', '$'): 1, ('math', 'N'): 1, ('put', 'V'): 6, ('http://bit.ly/bDqaqR', 'U'): 1, ('Crossing', 'N'): 1, ('City', 'N'): 2, ('soon', 'P'): 1, ('For', 'P'): 2, ('Rusesabagina', '^'): 1, ('down', 'P'): 2, ('6', '^'): 1, ('unimpressed', 'V'): 1, ('valid', 'N'): 1, ('New', 'A'): 6, ('@LilLittel', '@'): 1, ('Institute', 'N'): 1, ('Raq', '@'): 1, ('him', 'O'): 3, ('@iNewYorker', '@'): 1, ('estate', 'N'): 1, ('Most', 'N'): 2, ('@yomonroe', '@'): 1, ('~', 'G'): 1, ('loop', 'N'): 2, ('Lufkin', '^'): 1, ('acted', 'R'): 1, ('#justin50', '$'): 1, ('left', 'N'): 1, ('THINK', 'V'): 1, ('South', '^'): 1, ('Sergio', 'N'): 1, ('#TeamScorpio', '#'): 1, ('PAB', 'N'): 1, ('Where', 'R'): 1, ('@CremedelamerES', '@'): 1, ('sleep', 'V'): 1, ('Janet', '^'): 1, ('@LilMasty91', '@'): 1, ('living', 'V'): 1, ('@Yo2PrettySWEET', '@'): 1, ('Animal', 'D'): 1, ('titties', 'N'): 2, ('led', 'V'): 1, (\"that's\", 'L'): 2, ('Bella/Alistair', 'N'): 1, ('ear', '^'): 1, ('selling', 'V'): 1, ('trailer', 'E'): 1, ('WHAT', 'O'): 1, ('gonna', 'V'): 3, ('confused', 'A'): 1, ('main', 'A'): 1, ('steampunk', 'A'): 1, ('CHAMPION', '^'): 1, ('Pool', 'N'): 1, ('car', 'N'): 3, ('LAST', 'P'): 1, ('#baking', '#'): 1, ('Titusville', '^'): 1, ('Mark', '^'): 1, ('position', 'N'): 1, ('@ShowOut_Malc', '@'): 1, ('Weeks', 'N'): 1, ('m', 'G'): 1, ('http://r8t.us/9g3vrH', 'U'): 1, ('http://bit.ly/cL4WwH', 'U'): 1, (\"don't\", 'V'): 15, (']', 'U'): 1, ('Then', 'G'): 1, ('@kevinhoctor', '@'): 1, ('RT', '~'): 91, ('@biyl', '@'): 1, ('actually', 'R'): 2, ('Year-over-Year', '!'): 1, ('etc', 'E'): 2, ('outside', 'V'): 1, ('http://bit.ly/d3vGzb', 'U'): 1, ('weed', 'L'): 1, ('Goodnight', '!'): 1, ('Audio', 'N'): 1, ('but', '&'): 16, ('regular', 'N'): 1, ('{', 'D'): 1, ('http://twitpic.com/31dlg9', 'U'): 1, ('wifi', 'N'): 1, ('hugs', 'G'): 1, ('tutorings', 'N'): 1, ('hibernates', 'V'): 1, ('signal', 'N'): 1, ('sex_', 'G'): 1, ('junior', 'N'): 1, ('finall', 'R'): 1, ('profile', 'N'): 1, ('killin', 'V'): 1, ('http://twitpic.com/318jei', 'U'): 1, ('decisions', 'N'): 1, ('shaped', 'V'): 1, ('again', 'R'): 1, ('Adam', 'V'): 1, ('http://www.pantone.com/plus', 'U'): 1, ('.:', '~'): 1, ('@MarrDrew', '@'): 1, ('Dude', 'V'): 1, ('EMILY', '!'): 1, ('Of', 'P'): 1, ('juz', 'R'): 1, ('fuck', 'N'): 2, ('mcChicken', '^'): 1, ('pauly', 'N'): 1, ('happen', 'V'): 1, ('makes', 'V'): 3, ('ranther', 'V'): 1, ('&', '&'): 27, ('Subby', 'R'): 1, ('Angora', '^'): 1, ('@tamir103', '@'): 1, ('coul', 'V'): 1, ('MAYBE', '^'): 1, ('use', 'N'): 1, ('at', 'N'): 1, ('Hope', 'V'): 1, ('@jhurdles09', '@'): 1, ('NICKI', '^'): 1, ('stop', 'N'): 1, ('sit', 'V'): 1, ('@tommcfly', '@'): 1, ('extreme', 'A'): 1, ('rude', '^'): 1, ('BRICK', '$'): 1, (\"Beetlejuice's\", 'D'): 1, ('cuz', 'P'): 2, ('need', 'V'): 8, ('http://www.camwithher.com/blog/2010/10/27/today-10/', 'U'): 1, ('Wednesday', '^'): 1, ('Federal', 'N'): 1, ('Ingabire', 'N'): 1, ('@rindaferonika', '@'): 1, ('suppose', 'V'): 1, ('Juhz', '^'): 1, ('#tcot', '#'): 1, ('firsthand', 'V'): 1, ('over', 'R'): 1, ('N', '^'): 3, ('#plznthanku', '#'): 1, ('eyes', 'N'): 1, ('ad', 'N'): 1, ('goin', 'V'): 2, ('friend', 'N'): 2, ('cold', 'V'): 1, ('tribune', 'N'): 1, ('Paradise', 'R'): 1, ('#prayforindonesia', '#'): 4, ('asian', 'N'): 1, ('Makes', 'V'): 1, ('wildboyclothing', 'V'): 1, ('effort', 'N'): 1, ('Pierce', '^'): 1, ('@nerdsinbabeland', '@'): 1, ('s', 'G'): 1, ('perm', 'N'): 1, ('hurts', 'N'): 1, ('monsters', 'N'): 1, ('...', '~'): 38, (\"we're\", 'N'): 1, ('US', '^'): 2, ('Fifth', 'A'): 1, ('Spending', 'V'): 1, ('haha', '!'): 4, ('Fasho', 'R'): 1, ('SAN', 'E'): 1, ('break', 'V'): 1, ('@KFReilly', '@'): 1, ('time', 'N'): 13, ('Performer', 'G'): 1, ('Eva', '^'): 1, ('Life', 'N'): 2, ('@neeeshaboo', '@'): 1, ('quality', 'R'): 2, ('o__O', 'E'): 1, ('pump', 'N'): 1, ('filed', 'V'): 1, ('CAPTCHA', '^'): 1, ('arabian', 'N'): 1, ('lakers', 'N'): 3, ('reatreat', 'N'): 1, ('that', 'P'): 19, ('gotta', 'V'): 1, ('Flight', 'A'): 1, ('2', 'P'): 1, ('musicians', 'N'): 1, ('championship', 'N'): 1, ('are', 'V'): 24, ('Patti', '^'): 1, ('as', 'P'): 10, ('They', 'O'): 2, ('lied', 'V'): 1, ('Make', 'V'): 1, ('Kappa', '^'): 1, ('click', 'N'): 1, ('call', 'N'): 1, ('Corn', '^'): 1, ('design', 'V'): 1, ('@Kandi_CoatdKRI', '@'): 1, ('#1', '@'): 1, ('Swangas', 'N'): 1, ('COLD', '^'): 1, ('stickers', 'N'): 1, ('asked', 'V'): 2, (';', 'E'): 2, ('cont', '~'): 3, ('ur', 'D'): 9, ('?!', ','): 1, ('trying', 'V'): 1, ('being', 'V'): 4, ('somet', 'N'): 1, ('keeps', 'V'): 1, ('kept', 'V'): 1, ('youuu', 'O'): 1, (\"I'd\", 'L'): 2, ('IS', 'V'): 1, ('help', 'V'): 1, ('Txt', 'V'): 1, ('shsh', 'N'): 1, ('gain', 'N'): 1, ('nigga', '!'): 1, ('glasses', 'N'): 1, ('rich', 'A'): 1, ('@simplyke613', 'E'): 1, ('cds', 'N'): 1, ('challenges', 'N'): 1, ('lift', 'V'): 1, ('missed', 'V'): 1, ('!?', ','): 2, ('start', 'N'): 1, ('@blakemcgrath', '@'): 1, ('Toby', 'N'): 1, ('affirmation', 'N'): 1, ('raining', 'V'): 2, ('@MayaKisseZ', '@'): 1, ('OYE', 'A'): 1, ('@kstar11', '@'): 1, ('gmail', 'N'): 1, ('important', 'A'): 1, ('very', 'R'): 3, ('#np', '#'): 2, ('vehicle', 'N'): 1, ('@Lou_dour_', '@'): 1, ('mayor', 'N'): 1, ('irritate', 'V'): 1, ('Learn', 'R'): 1, ('attractive', 'A'): 1, ('guys', 'V'): 1, ('attic', '^'): 1, ('giggle', 'N'): 1, ('break', 'N'): 1, ('Book', '!'): 1, ('look', 'V'): 5, ('yell', 'N'): 1, ('York', 'N'): 1, ('gets', 'V'): 4, ('news', 'N'): 1, ('minutes', 'V'): 1, ('http://4sq.com/cRd7gP', 'U'): 1, ('yucky', 'A'): 1, ('office', 'P'): 1, ('ready', 'A'): 3, ('dey', 'A'): 1, ('http://studiolinked.com/fuzzyslippers', 'U'): 1, ('let', 'V'): 1, ('saw', 'V'): 3, ('wedding', 'V'): 1, ('Flex', 'N'): 1, ('http://fb.me/MVpc40mo', 'U'): 1, ('hell', 'N'): 2, ('sayin', 'V'): 1, ('Pla', '^'): 1, ('Rand', '^'): 1, ('+', '~'): 1, ('drive', 'V'): 2, ('beat', 'V'): 1, ('@HuggableJuly', '@'): 1, ('stars', 'N'): 1, ('triple', 'N'): 1, ('#DamnItsTrue', '#'): 1, ('if', 'P'): 10, ('price', 'N'): 1, ('gold', 'V'): 1, ('another', 'D'): 2, ('Mathew', 'N'): 1, ('@PrettyLadyTre_', '@'): 1, ('MySpace', 'N'): 1, ('Mypooh', 'R'): 1, ('Hateing', 'V'): 1, ('too', 'R'): 7, ('mad', 'A'): 1, ('bets', 'N'): 1, ('+', '&'): 1, ('smfdreads', 'V'): 1, ('test', 'N'): 1, ('$1000', '$'): 1, ('counted', 'V'): 1, ('@Hii_ImFruiity', '@'): 1, ('Q', 'N'): 1, ('@SpaceTruckaR', '@'): 1, ('Shannon', '^'): 1, ('Silverado', 'R'): 1, ('To', 'P'): 1, ('@NiiNiiDOE_MANE', '@'): 1, ('i', 'O'): 36, ('smug', 'V'): 1, ('island', 'N'): 1, ('set', 'A'): 1, ('Like', 'P'): 1, ('nope', '!'): 1, ('stage', 'N'): 1, ('Rhymes', 'N'): 1, ('knocked', 'V'): 1, ('WOW', 'V'): 1, ('claiming', 'V'): 1, ('picture', 'N'): 1, ('windows', 'N'): 1, ('codes', 'N'): 1, (\"warm't\", 'V'): 1, ('anytime', 'R'): 2, ('include', 'N'): 1, ('became', 'P'): 1, ('try', 'V'): 3, ('@56forfreedom', '@'): 1, ('investment', 'N'): 1, ('kicked', 'N'): 1, ('Sage', 'N'): 1, ('wtf', 'P'): 1, ('Right', 'P'): 1, ('believe', 'N'): 1, ('......', ','): 1, ('nothing', 'R'): 1, ('Chocolate', '^'): 1, ('Chainsaw', '^'): 1, ('#staticcling', 'N'): 1, ('throw', 'V'): 1, ('eh', '!'): 1, ('@SpoodyQue', '@'): 1, ('cause', 'P'): 1, ('Word', '^'): 1, ('Look', 'V'): 2, ('Business', 'N'): 1, ('never', 'R'): 3, ('Capital', '^'): 1, ('LL', '^'): 1, ('GIVEAWAY', 'N'): 1, ('Welcome', 'V'): 1, (\"you're\", 'L'): 2, ('less', 'L'): 1, ('dummy', 'N'): 1, ('@SheSoWet', '@'): 1, (\"'\", ','): 11, ('@1cierra22', '@'): 1, ('radio', 'N'): 1, ('has', 'V'): 7, ('Bieber\\xe2\\x80\\x99s', '^'): 1, (';p', 'N'): 1, ('#PrayForIndonesia', '#'): 1, ('Spooky', 'N'): 1, ('heard', 'V'): 1, ('Morning', '!'): 2, ('offensive', 'R'): 1, ('http://bit.ly/bePWkJ', 'U'): 1, ('sure-money', 'N'): 1, ('@jojo_9030', '@'): 1, ('????', ','): 1, ('*', 'G'): 2, ('either', 'R'): 2, ('Why', 'R'): 1, ('walter', 'G'): 1, ('tone', 'R'): 1, ('@robdelaney', '@'): 1, ('fans)', 'A'): 1, ('tell', 'V'): 9, ('bro', 'N'): 4, ('Probably', 'N'): 2, ('next', 'R'): 1, ('Tree', 'V'): 1, ('u', 'O'): 24, ('http://bit.ly/9IqEM8', 'U'): 1, ('Against', 'P'): 1, ('afternoon', 'N'): 1, ('Goodmorning', '!'): 1, ('Texas', '^'): 1, (\"I'll\", 'L'): 6, ('Intel', 'L'): 1, ('And', '&'): 3, ('K', 'N'): 1, ('Odd', 'A'): 1, ('19th', '^'): 1, ('http://myloc.me/dxMh7', 'U'): 1, (';', ','): 7, ('Muh', 'N'): 1, ('http://bit.ly/aHE9te', 'U'): 1, (\"I'm\", 'L'): 26, (\"It's\", 'L'): 6, ('That', 'O'): 1, ('looking', 'V'): 3, ('--', 'V'): 1, ('did', 'A'): 1, ('unbanned', 'V'): 1, ('draft', 'V'): 1, ('up', 'P'): 1, ('#adobemax', 'G'): 1, ('@RedBikini4u', '@'): 1, ('@JessicaNorthey', '@'): 1, ('killing', 'N'): 1, ('not', 'R'): 17, ('ShooFeeTV', '^'): 1, (\"Let's\", '^'): 3, ('starting', 'V'): 2, ('sex', '^'): 1, ('Face', '^'): 1, ('http://eonli.ne/b0b1Fe', 'U'): 1, ('Google', '^'): 1, ('C-Suiters', 'N'): 1, ('anxious', 'N'): 1, ('@NickKaz', '@'): 1, ('passion', 'N'): 1, ('former', 'N'): 1, ('Office', 'N'): 1, ('@yearoftherat', '@'): 1, ('limited', 'V'): 1, ('laughing', 'A'): 1, ('fav', 'A'): 2, ('1895', '$'): 1, ('@abddigani', '@'): 1, ('will', 'V'): 8, ('toilets', 'N'): 1, ('TYPO', 'E'): 1, ('loser', 'N'): 1, ('Traders', 'N'): 1, ('home', 'N'): 3, ('much', 'A'): 2, ('fantasia', '^'): 1, ('28th', '!'): 1, ('hehehee', '!'): 1, ('KP', '^'): 1, ('pay', 'N'): 3, ('@Dee_DeLaGhetto', '@'): 1, ('Sis', 'N'): 1, ('start', 'V'): 3, ('Allllllllllll', 'X'): 1, ('tip', 'N'): 1, ('less', 'D'): 1, (']', '!'): 1, ('.', 'E'): 1, (\"Arabian's\", 'N'): 1, ('Video', 'N'): 1, ('Soon', '^'): 1, ('So', 'P'): 5, ('fight', 'N'): 1, ('star', 'A'): 1, ('Set', 'N'): 1, ('@TeamKeri_NC', '@'): 1, ('urs', 'L'): 1, ('shit', 'N'): 3, ('As', 'P'): 1, ('Search', 'A'): 1, ('Lan', '^'): 1, ('#LAKERIN', '^'): 1, ('pissed', 'V'): 1, ('D.C.', ','): 1, (\"he'll\", '!'): 1, ('ignorant', 'A'): 1, ('Persian', 'N'): 1, ('Ransom', '^'): 1, ('nasty', 'A'): 1, ('recently', 'A'): 1, ('this', 'D'): 22, ('Morning', 'N'): 2, ('turn', 'N'): 1, ('yo', 'E'): 1, ('Christians', 'N'): 1, ('@StonieMONSTER', '@'): 1, ('#teamhorny', '!'): 1, ('key', 'N'): 2, ('/', ','): 1, ('Friends', 'N'): 1, ('gang', 'N'): 1, ('down', 'T'): 1, ('its', 'L'): 8, ('So', 'R'): 1, ('we', 'O'): 6, ('means', 'N'): 1, ('busy', 'N'): 1, ('@lilduval', '@'): 2, ('waddup', 'N'): 1, ('point', 'N'): 1, ('street', 'N'): 3, ('@SmashHansen', '@'): 1, ('he', 'O'): 13, ('@BunBTrillOG', '@'): 1, ('bags', 'N'): 1, ('Smile', 'N'): 1, ('shut', 'N'): 2, ('Artest', '^'): 1, ('@Jay_Kartez', '@'): 1, ('family', 'N'): 1, ('Celtics', '^'): 1, ('NOW', 'A'): 1, ('tips', 'N'): 2, ('$', 'D'): 1, ('read', 'V'): 1, ('favorite', 'A'): 2, ('full', 'A'): 1, ('site', 'N'): 1, ('Y', 'E'): 1, ('Medical', 'N'): 1, ('jpmorgan', 'N'): 1, ('4', 'P'): 3, ('Ladies', 'N'): 1, ('later', 'N'): 1, ('Justin', 'V'): 1, ('BUT', 'V'): 1, ('warm', 'V'): 1, ('Bid', '^'): 1, (\"Ye's\", 'L'): 1, ('shot', 'N'): 1, ('wristbands', 'N'): 1, ('@TuSalsera', '@'): 1, ('EVER', 'R'): 1, ('jokes', 'N'): 1, ('speculate', 'V'): 1, ('@TakeMeDownCHRIS', '@'): 1, ('Park', 'A'): 1, ('second', 'N'): 1, (\"Nicki's\", 'N'): 1, ('talk', 'V'): 5, ('understand', 'V'): 2, ('bastard', 'A'): 1, ('meeting', 'N'): 1, ('@HarryMueller', '@'): 1, ('nuts', 'V'): 1, ('!!!!', ','): 1, ('wide\\xe2\\x80\\x9d', 'N'): 1, ('young', 'A'): 2, (\"IT'S\", 'L'): 1, ('@Nicolie_Ravioli', '@'): 1, ('themselves', 'O'): 1, ('birthday', 'N'): 3, ('hott', 'A'): 1, ('room', 'P'): 1, ('Surely', 'R'): 1, ('haas', 'N'): 1, ('@BrittanyDasani', '@'): 1, ('strip', 'N'): 1, ('kute', 'N'): 1, ('safe', 'N'): 1, ('CF', '^'): 2, ('weight', 'N'): 1, ('Ihs', 'L'): 1, ('OBTS', '^'): 1, ('supposed', 'V'): 1, ('Menu', 'O'): 1, ('Chris', 'V'): 1, ('http://tumblr.com/xsgnbumjc', 'U'): 1, ('Never', '^'): 1, ('FUCK', 'N'): 1, ('FOlloW', 'G'): 1, ('boo', 'V'): 1, ('http://t.co/SQ7yPez', 'U'): 1, ('@taylorswift13', '$'): 1, ('Post/Boston', 'N'): 1, ('@', 'G'): 1, ('prosecutor', 'N'): 1, ('da', 'D'): 7, ('Raylene', 'V'): 1, ('Have', 'V'): 4, ('@trpmusicgroup', '@'): 1, ('forced', 'V'): 1, ('@ShellannaJ', '@'): 1, ('youtube', 'D'): 1, ('10', '$'): 4, ('Following', 'V'): 1, ('8:30', '$'): 1, ('@MrWiredUpOhBoy', '@'): 1, ('younger', 'D'): 1, (\"what's\", 'L'): 1, ('http://tl.gd/6mdj5q', 'U'): 1, ('Fact', '@'): 1, ('Braxton', '^'): 1, ('David', '^'): 1, ('Ju5t', 'A'): 1, ('s/o', 'R'): 1, ('Back', 'R'): 1, ('Try', 'V'): 1, ('summer', 'N'): 1, ('celebs', 'N'): 1, ('@iRetroBaby', '@'): 1, ('Alberhasky', 'N'): 1, ('trees', 'N'): 1, ('Respect', 'N'): 1, ('rates', 'N'): 1, ('gifts', 'N'): 1, ('biz', 'N'): 1, ('old', 'A'): 2, ('Shout', 'V'): 1, (\"you'll\", 'L'): 1, ('http://bit.ly/bbWmDK', 'U'): 1, ('@iPEPPAH', '@'): 1, ('made', 'V'): 4, ('5o', 'R'): 1, (\"sloane's\", 'N'): 1, ('just', 'N'): 1, ('walk', 'N'): 1, ('LUE', 'R'): 1, ('gzz', 'L'): 1, ('woman', 'N'): 1, ('HOT', 'A'): 1, ('chance', 'N'): 1, ('DM', 'V'): 1, ('yard', 'N'): 1, ('sea', 'N'): 1, ('<---', 'G'): 1, ('on', 'P'): 38, ('guess', 'V'): 1, ('http://www.youtube.com/watch?v=IKqYXxl_0Rk', 'U'): 1, ('carolyn', 'N'): 1, ('Jersey', '^'): 1, ('http://twittascope.com/?sign=8', 'U'): 1, ('school', 'N'): 1, ('Jeezy', '^'): 1, ('#Shoutout', '#'): 1, ('Security', 'N'): 1, ('NJ', 'G'): 1, ('realize', 'R'): 2, ('away', 'R'): 1, ('http://bit.ly/dkWm38', 'U'): 1, ('beasty', 'P'): 1, ('Growth', 'N'): 2, ('Social', 'N'): 1, ('kisses', 'V'): 1, ('Omg', '!'): 1, ('http://bit.ly/9kU2LT', 'U'): 1, ('Yeah', '!'): 1, ('U.S.', '^'): 2, ('@Lovefranny', '@'): 1, ('@mwbuckingham', '@'): 1, ('waited', 'V'): 1, ('man', 'N'): 7, ('bridge', 'N'): 1, ('tonite', 'N'): 1, ('shyt', 'N'): 1, (';)', 'E'): 1, ('@WHOATLJONES', '@'): 1, ('Up', '!'): 1, ('Author', 'N'): 1, ('@EarllyMac', '@'): 1, ('link', 'V'): 1, ('played', 'N'): 1, ('Velociraptor', 'N'): 1, ('....', ','): 9, ('sushi', '^'): 1, ('w', 'P'): 1, ('fun', 'N'): 2, ('@ArtInstituteChi', 'N'): 1, ('anyone', 'O'): 1, ('http://newzfor.me/?9424', 'U'): 1, ('software', '@'): 1, ('scantron', 'N'): 1, ('@Mr_Twit_That_Ho', '@'): 1, ('problem', 'N'): 1, ('should', 'V'): 5, ('saying', 'V'): 1, ('tale', 'N'): 2, ('designers', 'N'): 1, ('@IamMiklovin', '@'): 1, ('warns', 'V'): 1, ('Dreams', 'N'): 1, ('What', 'O'): 6, ('http://ustre.am/1c92', 'U'): 1, ('@Celebritney', '@'): 1, ('@Iam_Mr_Brown', '@'): 1, ('Anyone', 'N'): 1, ('chrisdmuchris', 'N'): 1, ('@NITTIBEATZ', '@'): 1, ('starts', 'N'): 1, ('@cjayelerose', 'N'): 1, ('Freaky', 'N'): 1, ('cryin', 'V'): 1, ('open', 'A'): 2, ('#Follow', '#'): 1, ('lunch', 'N'): 2, ('~', '!'): 1, ('=D', 'E'): 1, ('my', 'D'): 53, ('#champ', 'N'): 1, ('begun', 'V'): 1, ('@Wateva_Trevor', '@'): 1, ('Lady', '^'): 1, ('baby', 'N'): 1, ('@docevans23', '@'): 1, ('VH1\\xc2\\xab-What', 'O'): 1, ('Smith', '^'): 1, ('implicated', 'L'): 1, ('@torontoescorts', '@'): 1, ('file', 'G'): 1, ('Ps', 'N'): 1, ('tooth', 'N'): 1, ('Me', 'V'): 1, ('http://su.pr/8ztrNZ', 'U'): 1, ('http://fb.me/D7jpnZv5', 'U'): 1, ('Nike', 'N'): 1, ('40', '$'): 1, ('Good', 'A'): 3, ('#2', 'R'): 1, ('http://t.co/wHyEWm1', 'U'): 1, ('.....', ','): 2, ('other', 'A'): 3, ('DAT', 'O'): 2, ('20', '$'): 1, ('religion', 'N'): 1, ('@UWSportsNews', '@'): 1, ('lost', 'A'): 2, ('massage', 'N'): 1, ('floor', 'N'): 1, ('Shariatmadari', '^'): 1, ('Demi', '^'): 1, ('scratchh', 'N'): 1, ('\\xe2\\x80\\x98RIGHT', 'V'): 1, ('cheek', 'N'): 1, ('@IAmSteveHarvey', '@'): 1, ('wonderin', 'N'): 1, ('Salem', 'N'): 1, ('mountainridge', 'N'): 1, ('Even', 'R'): 1, ('theyll', 'O'): 1, ('musical', 'A'): 1, ('loss', 'N'): 1, (\"Rihanna's\", 'N'): 1, ('spirits', 'N'): 1, ('?\"', ','): 2, ('CHICK', 'N'): 1, ('war', 'N'): 1, ('#seashepherd', '#'): 1, ('own', 'N'): 1, ('http://tinyurl.com/2cdyk9o', 'U'): 1, ('homiessssssssss', 'N'): 1, ('feel', 'V'): 5, ('em', 'O'): 2, ('Del', '^'): 1, ('@Gunservatively', '@'): 1, ('care', 'N'): 1, ('touch', 'P'): 1, ('that', 'D'): 10, ('moonlit', 'N'): 1, (']', ','): 1, ('Never', 'N'): 1, ('http://bit.ly/97OWFn', 'U'): 1, ('Mondays', 'N'): 1, ('wearing', 'V'): 1, ('absorbs', 'P'): 1, ('@SilverFear', '@'): 1, ('Movie', 'N'): 1, ('@Justin_Boots', '@'): 1, ('@agathagritte9', '@'): 1, ('Are', 'V'): 2, ('b-day', 'N'): 2, ('@KorinGreen', '@'): 1, ('\\'\"', ','): 1, ('!!!', ','): 7, ('does', 'N'): 1, ('talkin', 'V'): 1, ('uglyy', 'V'): 1, ('http://youtu.be/p4gRKvtYu48?a', 'U'): 1, ('thing', 'N'): 2, ('Songs', '^'): 1, (':)', 'E'): 17, ('Southside', 'P'): 1, ('autographed', 'A'): 1, ('@ComediaaGoGo', '@'): 1, ('chase', 'N'): 1, ('then', 'N'): 1, ('@fardeyl', '@'): 1, ('@Lylatheband', '@'): 1, ('@ShawolsSHINee', '@'): 1, ('WHEN', 'P'): 1, ('work', 'N'): 6, ('17:27', '$'): 1, ('wth', 'A'): 1, ('artists', 'N'): 1, ('facetime', 'V'): 1, ('#thatshowitis', '#'): 1, ('self', 'N'): 1, ('wifey', 'N'): 1, ('Lakers', '^'): 3, ('sasha', 'V'): 1, ('suppress', 'N'): 1, ('cheer', 'N'): 1, ('more', 'A'): 8, ('@SharminUltra', '@'): 1, ('instead', '!'): 1, ('SF', 'D'): 1, ('stuff', 'N'): 1, ('o____O', '!'): 1, ('FAST', 'N'): 1, ('mean', 'V'): 2, ('trust', 'N'): 1, ('t', 'G'): 1, ('Tue', 'N'): 1, ('mention', 'O'): 1, ('her', 'D'): 3, ('@GreenEyezzzzz', '@'): 2, ('square', 'N'): 1, ('sky', 'N'): 1, ('Backs', 'V'): 1, ('Gets', 'N'): 2, ('http://fb.me/LtIZ8S2N', 'U'): 1, ('FB', ','): 1, ('Seen', 'A'): 1, ('mii', '^'): 1, ('101', '$'): 1, ('@EthiopianBella', '@'): 1, (':', '~'): 97, ('Bun', 'N'): 1, ('#howcome', 'L'): 1, ('#shoutout', 'N'): 1, ('Open', '^'): 1, ('Silence*', 'G'): 1, ('Toronto', 'R'): 1, ('unless', 'P'): 1, ('@foursquare', 'N'): 1, ('says', 'V'): 1, ('warmth', 'V'): 1, ('http://newzfor.me/?9ke3', 'U'): 1, ('He', '!'): 2, ('servers', 'N'): 1, ('sciences', 'N'): 1, ('sleepin', 'N'): 1, ('entertainingly', 'R'): 1, (\"Can't\", 'V'): 1, ('??', ','): 7, ('withhh', 'P'): 1, ('great', 'A'): 6, ('already', 'R'): 2, ('convict', 'N'): 1, ('allowed', 'R'): 1, ('princess', 'N'): 1, ('loves', 'V'): 1, ('crummy', 'A'): 1, ('http://bit.ly/cB79Vq', 'U'): 1, ('abuse', 'O'): 1, ('p.e', 'N'): 1, ('think', 'V'): 6, ('basement', 'N'): 1, ('yaw', '!'): 1, ('We', 'O'): 4, ('douche', 'N'): 1, ('aint', 'V'): 1, ('Ok', '!'): 1, (\"WHAT'S\", '^'): 1, ('jus', 'R'): 2, ('water', 'N'): 1, ('rubber', '^'): 1, ('weak', 'N'): 1, ('http://plixi', 'U'): 1, ('sports', 'N'): 1, ('does', 'V'): 3, ('please', 'V'): 1, ('@tennillemonique', '@'): 1, ('#TrueStory', '#'): 1, ('@GinnyKaroub', '@'): 1, ('http://bit.ly/dexQk3', 'U'): 1, ('weather', 'N'): 2, ('hahaaha', '!'): 1, ('clothes', 'N'): 2, ('rosetta', 'N'): 1, ('Drink', 'V'): 1, ('impressive', 'N'): 1, ('sunshine', 'N'): 1, ('@lola_symone', '@'): 1, ('ditch', '^'): 1, ('Northern', 'N'): 1, ('live', 'V'): 3, ('SPicy', 'N'): 1, ('Brooks', '^'): 2, ('rub', 'V'): 1, ('http://nyti.ms/b9VNtB', 'U'): 1, ('difference', 'N'): 1, ('begun', 'P'): 1, ('@Togishi', '@'): 1, ('off', 'P'): 8, ('out', 'N'): 1, ('@boiypr', '@'): 1, ('La', '^'): 1, ('CD+DVD', 'E'): 1, ('E', '^'): 1, ('all', 'O'): 1, ('#amen', '#'): 1, ('Get', 'V'): 2, ('Hey', '!'): 1, (':D', 'E'): 6, ('fraud', 'N'): 1, ('blunt', '^'): 1, ('Welllllllll', '!'): 1, ('@bjr70', '@'): 1, ('change', 'V'): 2, ('@TurntThaFuccUp', '@'): 1, ('@Broslife', '@'): 1, ('Highlight', 'A'): 1, ('@FabricLenny2010Live', '@'): 1, ('bulimic', '&'): 1, ('#listen', '^'): 1, ('are', 'P'): 2, ('@DOMiNiQUESSENCE', '@'): 1, ('what', 'O'): 10, ('stock', 'N'): 1, (\"West's\", 'N'): 1, ('character', 'N'): 1, ('0-1', '$'): 1, ('into', 'P'): 4, ('Text', 'N'): 1, ('corner', 'N'): 1, ('31', '$'): 1, ('Kyung', 'V'): 1, ('http://fb.me/LHVUc80W', 'U'): 1, ('beadles', 'N'): 1, ('Hahaha', '!'): 1, ('Gyptian', 'V'): 1, ('javascript', 'N'): 1, ('#thecove', '#'): 1, ('dick', 'N'): 2, ('parents', 'N'): 1, ('need', 'A'): 1, ('Supreme', 'V'): 1, ('leggo', 'G'): 1, ('Dia', 'G'): 1, ('jasmine', 'N'): 1, ('#endtimes', 'N'): 1, ('#thingsyouwishyoucansaybutcant', '#'): 1, ('SDS]', 'A'): 1, ('@sexxystarr1009', '@'): 1, ('smokers', 'V'): 1, ('Gold', 'A'): 1, ('Wider', 'N'): 1, ('HUGE', 'N'): 1, ('drama', '!'): 1, ('query', 'N'): 1, ('bf', 'N'): 1, ('@LightCurls', '@'): 1, ('Purple', 'N'): 1, ('oo', '@'): 1, ('<3', 'E'): 6, ('waitress', 'N'): 1, ('album', 'N'): 1, ('DO', 'V'): 1, ('Tapatia', '^'): 1, ('confused', 'N'): 1, ('@JustCallMeRJ', '@'): 1, ('Busta', '^'): 1, ('Healthy', 'R'): 1, ('Thank', 'N'): 1, ('trip', 'N'): 1, ('@ucsantabarbara', '@'): 1, ('shut', 'V'): 1, ('\\xe2\\x80\\x9cSuccess', 'N'): 1, ('resume', 'N'): 1, (\"What's\", 'L'): 3, ('Assistant', 'N'): 1, ('But', '&'): 1, ('Her', '!'): 1, ('Everytime', 'R'): 2, (\"let's\", 'N'): 1, ('#airport', 'N'): 1, ('Soros', 'N'): 1, ('Getting', 'V'): 3, ('please', 'N'): 1, ('#Whitman', '^'): 1, ('realized', 'V'): 2, ('type', 'N'): 1, ('Columbus', 'N'): 1, ('Massacre', 'N'): 2, ('needs', 'V'): 2, ('damn', 'A'): 1, ('McDs', 'N'): 1, ('@webuildhits', 'N'): 1, ('Listening', 'V'): 1, ('live', 'N'): 1, ('criticize', 'V'): 1, ('Sleep', '@'): 1, ('Out', 'N'): 1, ('Pics', 'N'): 1, ('spanish', 'N'): 1, ('@catholic_sf', '@'): 1, (\"y'all\", 'A'): 1, ('Relax', 'N'): 1, ('fu', 'A'): 1, ('Hey', 'R'): 1, ('Gas', 'N'): 1, ('luck', 'N'): 1, ('blog', 'N'): 1, ('Morgan', '^'): 1, ('games', 'N'): 1, ('@CapreeK', '@'): 1, ('Since', 'P'): 2, ('1', '$'): 2, ('THANK', 'D'): 1, ('boutta', 'O'): 1, ('come', 'V'): 3, ('nobody', '!'): 1, ('http://bit.ly/aWIPZk', 'U'): 1, ('legalize', '^'): 1, ('at', 'P'): 34, ('across', 'N'): 1, ('caitlin', 'N'): 1, ('Man', '^'): 1, ('dislike', 'V'): 1, ('smokin', 'V'): 1, ('today', 'N'): 7, ('Daa', '!'): 1, ('@IamDjLEGiT', '@'): 1, ('finish', 'V'): 1, ('Yea', '!'): 2, ('Skye', 'N'): 1, ('21st', 'A'): 1, ('then', 'R'): 3, ('Size', 'N'): 1, ('Steve', 'N'): 1, ('@BlancoDiddy', '@'): 1, ('commodity', 'N'): 1, ('spot', 'N'): 1, ('dru', 'O'): 1, ('Yo', 'G'): 1, ('\\xe2\\x80\\x9d', ','): 2, ('b', 'V'): 3, ('@iBeen_Had_it', '@'): 1, ('Suz', '^'): 1, ('alot', 'N'): 1, ('whats', 'L'): 1, ('play', 'N'): 1, ('2tO', '!'): 1, ('[', ','): 5, ('#uzeeeit', 'N'): 1, ('LOLOL', '!'): 1, ('@SPINmagazine', '@'): 1, ('til', 'P'): 1, ('FACT', 'N'): 1, ('Gingerbread', '^'): 1, ('wit', 'P'): 3, ('@lightakari', '@'): 1, ('#GLEE', 'N'): 1, ('jamaicans', 'N'): 1, ('chatroom', 'N'): 1, ('reply', 'N'): 1, ('Tweet', 'V'): 1, ('[', 'G'): 1, ('Your', 'D'): 3, ('post', 'N'): 1, ('something', 'N'): 3, ('KY-Sen', 'N'): 1, ('opposite', 'N'): 1, ('#top10seo', '#'): 1, ('ROTF', 'E'): 1, ('!', ','): 107, ('Baby', 'N'): 1, ('yr', 'N'): 1, ('@jcm089', '@'): 1, ('pic', 'N'): 3, ('Anyone', 'L'): 1, ('@Love_JAsh', '@'): 1, ('security', 'N'): 1, ('http://nblo.gs/9Iuzw', 'U'): 1, ('@fiteraahR', '@'): 1, (\"couldn't\", 'V'): 1, ('\\xc2\\xa0Senior', 'N'): 1, ('messed', 'O'): 1, ('Run', 'N'): 2, ('prepares', 'N'): 1, ('November', '^'): 2, ('WIPE', 'V'): 1, ('alive', 'A'): 1, ('@xNJNIGHTMAREx', '@'): 1, ('whiskey', 'O'): 1, ('ham', '$'): 1, ('Amazing', 'V'): 1, ('#SpeakNow', 'N'): 1, ('@MARLONLWAYANS', '@'): 1, ('@modeps', '@'): 1, ('Utah', '^'): 1, ('@MiamiHEAT', '^'): 1, ('lost', 'V'): 1, ('soon', 'A'): 1, ('survey', 'R'): 1, ('born', 'V'): 1, ('#WakeNBake', 'N'): 1, ('year', '!'): 1, (\"Fool's\", 'N'): 1, ('Saturday', 'N'): 1, ('fucking', 'N'): 1, ('wait', 'V'): 1, ('She', 'O'): 1, ('ladies', 'G'): 1, ('Jeeran', '^'): 1, ('#tfb', '#'): 1, ('Morrison', 'N'): 1, ('Pick', 'V'): 1, ('hate', 'O'): 1, ('At', 'P'): 1, ('http://newzfor.me/?9er3', 'U'): 1, ('http://bit.ly/aoU1zg', 'U'): 1, ('Young', 'V'): 1, ('Saks', 'N'): 1, ('knees', 'V'): 1, ('tour', 'N'): 1, ('@leslie', '@'): 1, ('Bosh', '^'): 1, ('tryna', 'V'): 1, ('right', 'A'): 5, ('miss', 'N'): 1, ('Check', 'V'): 2, ('hunting', 'V'): 1, ('GO', 'V'): 1, ('Going', 'V'): 1, ('funny', 'A'): 3, ('small', 'A'): 1, ('Touch', '^'): 1, ('hero', '!'): 1, ('((((((((((((((((((((((((((((((((', '@'): 1, ('Hot', 'A'): 1, ('@StephenAtHome', '@'): 1, ('@David_Ealy', '@'): 1, ('strongg', 'V'): 1, ('god', 'V'): 2, ('12', '^'): 1, ('professional', 'A'): 1, ('misery', 'N'): 1, ('measures', 'N'): 1, ('@KelliMonster', '@'): 1, ('@unjazmynlike', '@'): 1, ('End', '^'): 1, ('Ramsay', '^'): 1, ('only', 'A'): 5, (':(((', '!'): 1, ('sposed', 'V'): 1, ('Republican', 'N'): 1, ('bottle', 'N'): 1, ('tweet', 'N'): 1, ('flying', 'V'): 1, ('@tanyakeith', '@'): 1, ('Ewww', 'N'): 1, ('-->', 'G'): 2, ('weird-ed', 'V'): 1, ('@PNUTDABOY', '@'): 1, ('ever', 'R'): 2, ('Lovato', '^'): 1, ('@JAEMILLZ100', '@'): 1, ('}', '~'): 1, ('tommorow', 'V'): 1, ('someone', 'N'): 1, ('It', 'O'): 6, ('@MarciandreA', '@'): 1, ('Three', 'D'): 1, ('doin', 'N'): 1, ('Zenni', 'N'): 1, ('#NBA', 'E'): 1, ('??!!', ','): 1, ('T-Mobile', 'N'): 1, ('http://game2gamer.com/node/88', 'U'): 1, ('rt', 'A'): 1, ('btw', 'A'): 1, ('quarter', 'N'): 1, ('NEW', 'G'): 1, ('Join', 'V'): 1, ('When', 'R'): 4, ('playing', 'V'): 2, ('dancing', 'V'): 1, ('@FrankUwhore', '@'): 1, ('use', 'O'): 1, (\"You'll\", 'L'): 1, ('dat', 'N'): 1, ('Yall', 'O'): 1, ('officially', 'P'): 1, ('#US', 'N'): 1, ('apathetic', 'A'): 1, ('lose', 'V'): 1, ('Taylor', '^'): 1, ('ANACS', 'N'): 1, ('@monykassem', '@'): 1, ('following', 'V'): 1, ('FAN', 'N'): 1, ('Bloody', 'N'): 1, ('http://t.co/4EdrmMx', 'U'): 1, ('@kemishamonae', '@'): 1, ('Messages', 'N'): 1, ('http://bit.ly/bMuuQi', 'U'): 1, ('teh', 'N'): 1, ('Green', 'N'): 1, ('Intel\\xe2\\x80\\x99s', 'N'): 1, ('add', 'V'): 1, ('Media', 'N'): 1, ('den', 'N'): 2, ('#gohead', '#'): 1, (\"Cincinnati's\", 'N'): 1, ('later', 'A'): 1, ('lady', 'N'): 1, ('0', 'E'): 1, ('(', 'E'): 3, ('criminal', 'N'): 1, ('boi', 'N'): 1, ('http://ow.ly/302YZ', 'U'): 1, ('@vicckiee', '@'): 1, ('weeks', 'N'): 1, ('Markets', '^'): 1, ('Shard', 'N'): 1, ('Headed', 'A'): 1, ('Wiis', '^'): 1, ('#teaparty', '#'): 1, ('Matthew', '^'): 1, ('http://bit.ly/bAaiwf', 'U'): 1, ('Yhur', 'N'): 1, ('r', 'V'): 2, ('NOT', '!'): 1, ('Thunder', 'G'): 1, ('photos', 'N'): 1, ('Morniinqqqq', 'E'): 1, ('Trying', 'V'): 1, ('EVERYBODY', '!'): 1, ('Want', 'V'): 2, ('skank', 'N'): 1, ('gon', 'V'): 1, ('Words', 'N'): 1, ('#WW', 'G'): 1, ('race', 'N'): 1, ('chillin', 'N'): 1, ('@MarthaStewart', '@'): 1, ('catch', 'V'): 1, ('Chick', 'N'): 1, ('up', 'T'): 10, ('food', 'N'): 1, ('He', 'V'): 1, ('than', 'P'): 4, ('most', 'R'): 1, ('though', 'P'): 1, ('cool', 'N'): 1, ('when', 'R'): 8, ('another', 'R'): 1, ('Swift', 'N'): 1, ('hehe', '!'): 2, ('Actually', 'R'): 1, ('Court', '^'): 1, ('pot', 'N'): 1, ('http://tinychat.com/keyscorner', 'U'): 1, ('#clueless', '#'): 1, ('Grin', 'N'): 1, ('RIP', 'E'): 1, ('@NICKIMINAJ', '@'): 1, ('worth', 'A'): 2, ('fishes', 'N'): 1, ('@joehall', '@'): 1, ('More', 'A'): 1, ('hy', 'N'): 1, ('deep', 'R'): 1, ('-', 'G'): 6, ('MINAJ', '^'): 1, ('use', 'V'): 2, ('Gettin', 'V'): 1, ('cuzzo', 'P'): 1, ('camouflage', 'O'): 1, ('months', 'N'): 1, ('VIDEO', '!'): 1, ('Er', '^'): 1, ('prisoners', 'N'): 1, ('@thegirlEs', '@'): 1, ('Shit', '!'): 1, ('body', 'N'): 4, ('Grape', 'N'): 1, ('take', 'V'): 1, ('Must', 'N'): 1, ('only', 'P'): 1, ('ADMIRER', '@'): 1, ('RODE', 'V'): 1, ('Because', 'P'): 1, ('Shaver/Truffle', '^'): 1, ('book', 'N'): 2, ('guy', 'N'): 2, ('by', 'P'): 10, ('female', 'V'): 1, ('do', 'V'): 16, ('@m2jr', '@'): 1, ('Saturday', '^'): 1, ('???', ','): 1, ('Andrew', '^'): 1, (\"didn't\", 'V'): 6, ('yay', '!'): 1, ('prizes', 'N'): 1, ('Connor', '^'): 1, ('SAID', 'V'): 1, ('truth', 'N'): 2, ('view', 'N'): 1, ('Truffles', 'N'): 1, ('liked', 'V'): 1, ('@BIRDMAN5STAR', '@'): 1, ('Very', 'R'): 1, ('obviouslllllllly', 'A'): 1, ('@HuffPostCollege', '@'): 1, ('Series', '^'): 1, ('YOUR', 'P'): 1, ('Oh', '!'): 1, ('cute', 'V'): 1, ('images', 'G'): 1, ('Fit', 'A'): 1, ('aces', 'N'): 1, ('WTF', 'O'): 1, ('Chicken', '^'): 1, (\"you're\", 'D'): 1, ('LOUNGE', '!'): 1, ('right', 'R'): 1, ('@NPR', '@'): 1, ('red', 'N'): 1, ('down', 'R'): 3, ('Like', 'V'): 2, ('ask', 'A'): 1, ('Nate', 'N'): 1, ('Embargo', 'N'): 1, ('@PressSec', '@'): 1, ('#BuzzNtheBurgh', '#'): 1, ('ended', 'A'): 1, ('elects', 'N'): 1, ('@ohshititssam', '@'): 1, ('Washington', '^'): 1, ('reminds', 'V'): 1, ('http://su.pr/18wcn2', 'U'): 1, ('Blige', 'O'): 1, ('sitting', 'V'): 1, ('this', 'O'): 4, ('girls', 'N'): 1, ('favorited', 'V'): 1, ('some', 'D'): 7, ('little', 'A'): 2, ('join', 'V'): 1, ('@AYPATRICK', '@'): 1, ('lls', 'G'): 1, ('gods', '^'): 1, ('tired', 'A'): 1, ('clarinet', 'N'): 1, ('@bussabuss', '@'): 1, ('deliver', 'N'): 1, ('@ChaChaRealSmoov', '@'): 1, ('text', 'N'): 2, ('HATER', 'A'): 1, ('Prescription', 'N'): 1, ('Remus', 'N'): 1, ('2', '$'): 1, ('runnin', 'V'): 1, ('go', 'V'): 14, ('textin', 'N'): 1, ('defense', 'N'): 1, ('got', 'V'): 18, ('buy', 'N'): 1, ('#sicktweet', 'E'): 1, ('Bron', '^'): 1, ('might', 'V'): 2, ('chat', 'N'): 1, ('@SoulRockKelly', '@'): 1, ('help', 'N'): 1, ('bout', 'P'): 2, (\"Ritchie's\", '^'): 1, ('Cheer', 'V'): 1, ('yea', '!'): 3, ('information', 'V'): 1, ('answer', 'N'): 1, ('Yooo', 'E'): 1, ('Houllier', 'R'): 1, (\"person's\", 'L'): 1, ('@missriahdavis', '@'): 1, ('bag', 'N'): 1, ('girl', 'N'): 4, ('records', 'N'): 1, ('Crack', '^'): 1, ('Lord', '^'): 1, ('even', 'R'): 3, ('facial', 'N'): 1, ('huh', 'N'): 1, ('celtics', 'N'): 3, ('Plot', 'N'): 1, ('@BadASSQuin', '@'): 1, ('tear', 'V'): 1, ('Funny', 'G'): 1, ('night', 'N'): 3, ('ROCKY', '@'): 1, ('DRIVING', 'P'): 1, ('Thanksgiving', 'V'): 1, ('oh', '!'): 6, ('best', 'A'): 3, ('#canada', '^'): 1, ('kno', 'V'): 1, ('@SoSoYellow', '@'): 1, ('score', 'N'): 1, ('HOES', 'N'): 1, ('sample', 'N'): 1, ('Siblings', 'N'): 1, ('abt', 'P'): 1, ('Him|', 'E'): 1, ('Date', '^'): 1, ('OVA', '^'): 1, ('winter', 'D'): 1, ('crazyyyyy', 'A'): 1, ('Jolie', '^'): 1, ('hair', 'V'): 1, ('@jadorejenell', '!'): 1, ('tubes', 'N'): 1, ('Down', 'V'): 1, ('http://bit.ly/2qbpQ', 'U'): 1, ('Mixed', 'A'): 1, ('place', 'N'): 1, ('hole', 'N'): 1, ('reading', 'V'): 2, ('receive', 'V'): 1, ('season', 'N'): 2, ('#teamfollowback', '#'): 1, ('Now', 'R'): 3, ('some', 'R'): 1, ('ASSES', 'N'): 1, ('Halloween', '^'): 4, ('meteorologist', 'N'): 1, ('Huge', '!'): 1, ('2010', '$'): 1, ('Vader', 'N'): 1, ('ME', '!'): 1, ('triple', 'V'): 1, ('over', 'P'): 3, ('original', 'N'): 1, ('opinions', 'N'): 1, ('Kay', '^'): 1, ('doesnt', 'N'): 1, ('matt', 'N'): 1, ('\\xee\\x90\\x93', 'E'): 1, ('@philpringle', '@'): 1, ('class', 'N'): 4, ('times', 'N'): 1, ('@Aqua_fina_68n1', '@'): 1, ('SO', 'R'): 2, ('you', 'O'): 60, ('@joejonas', '@'): 1, ('No', '^'): 1, ('lil', 'A'): 1, ('@RB_General', '@'): 1, ('#gospelaccordingtolaila', '#'): 1, ('pretty', 'R'): 3, ('weekend', 'N'): 1, ('timey', 'N'): 1, ('happened', 'V'): 1, ('Von', 'V'): 1, ('for', 'P'): 49, ('subject', 'A'): 1, ('chagall', 'N'): 1, ('fall', '^'): 1, ('AS', 'N'): 1, ('pkollar', '@'): 1, ('@ULuvBrittLin', '@'): 1, ('given', 'V'): 2, ('predicting', 'V'): 1, ('Show/Podcast', '^'): 1, ('soon', 'R'): 6, ('2night', 'N'): 1, ('green', 'N'): 1, ('Hotel', '^'): 1, ('For', 'R'): 1, ('http://bit.ly/958Bfq', 'U'): 1, ('achive', '@'): 1, ('Bet', 'V'): 1, ('crush', 'V'): 1, ('good', '^'): 1, ('#sextips', '#'): 1, ('HEAT', '^'): 1, ('@AriannyCeleste', '@'): 1, ('Him', 'N'): 1, ('#NickiMinaj', '#'): 1, ('Better', 'G'): 2, ('Massachusetts', 'N'): 1, ('Format', 'A'): 1, ('petesakes', 'N'): 1, ('barely', 'R'): 1, ('SEE', 'O'): 1, ('#LimeWire', '^'): 1, ('Im', 'L'): 1, ('PA', 'D'): 1, ('Order', '&'): 1, ('Sheen', '^'): 1, ('well', 'R'): 1, ('Four', 'N'): 1, ('Come', 'A'): 1, ('@grumbine', '@'): 2, ('dull', 'N'): 1, ('Thanx', '^'): 1, ('answered', 'P'): 1, ('Got', 'V'): 2, ('6', '$'): 2, ('those', 'O'): 1, ('house', 'N'): 1, ('wachu', 'O'): 1, ('#smh', 'N'): 1, ('math', '^'): 1, ('Creator', '^'): 1, ('fired', 'A'): 1, ('<-', '~'): 1, ('there', 'R'): 5, ('!...', 'N'): 1, ('wrong', 'A'): 4, ('Keep', 'L'): 1, ('Domo', 'N'): 1, ('manager', 'A'): 1, ('good', 'A'): 17, ('Pantone', 'N'): 1, ('before', 'P'): 4, ('resist', 'A'): 1, ('@1datingtime', '@'): 1, ('stress', 'N'): 1, ('Engaged', 'V'): 1, ('OMG', '!'): 1, ('bit', 'N'): 1, ('#NP', 'E'): 2, ('#Celtics', 'L'): 1, ('rape', 'N'): 1, ('definitely', 'R'): 1, ('Phil', '^'): 2, ('lot', 'N'): 1, ('friends', 'N'): 2, ('tweets', 'N'): 2, ('Yep', '!'): 1, ('Cardinals', 'N'): 1, ('xPeeps', 'N'): 1, ('report', 'V'): 1, ('East', 'N'): 1, ('gone', 'V'): 1, ('Tuesday\\xe2\\x80\\xa6', 'G'): 1, ('Girls', 'V'): 1, ('Banshee', 'N'): 1, ('omg', '!'): 1, ('trouble', 'N'): 1, ('that', 'O'): 10, ('keep', 'V'): 3, ('off', 'R'): 1, ('tons', 'N'): 1, ('gas', 'N'): 1, (\"Eric's\", '^'): 1, ('@jcyr', '@'): 1, ('n', '&'): 3, ('ommggggg', '!'): 1, ('@KenjuTE', '@'): 1, ('KILL', 'P'): 1, ('Twitter', '^'): 1, ('@SlapASmut', '@'): 1, ('@notacrumb', '@'): 1, ('ceremonies', 'N'): 1, ('Barack', '^'): 1, ('money', 'N'): 1, ('\\xe2\\x80\\x93Uncle', 'N'): 1, ('days', 'N'): 2, ('...\"', ','): 1, ('and', '&'): 55, ('Slumber', 'V'): 1, ('myspace', 'V'): 1, ('Dhat', 'N'): 1, ('Tomorrow', 'N'): 1, ('back', 'R'): 10, ('#disneywords', '^'): 1, ('@arkitektmedia', '@'): 1, ('UN', '^'): 1, ('How', 'R'): 6, ('incredible', 'N'): 1, ('Chef', '^'): 1, ('job', 'N'): 3, ('Me', 'O'): 3, ('staff', 'N'): 2, ('forgot', 'V'): 1, ('Angelina', '^'): 1, ('fuckn', 'N'): 1, ('Parenting', 'V'): 1, ('Mac', '^'): 2, ('JESUS', 'N'): 1, ('kids', 'N'): 2, ('Chatter', '^'): 1, ('upon', 'P'): 1, ('no', '!'): 2, ('@CatholicNewsSvc', '@'): 1, ('@ZAGGdaily', 'N'): 1, ('entered', 'V'): 1, ('well-', 'E'): 1, ('OUT', 'P'): 1, ('spend', 'V'): 1, ('nothing', 'V'): 1, ('ok', 'A'): 1, ('Inn', 'V'): 1, ('Photo', 'N'): 2, ('soo', 'E'): 1, (\"I've\", 'L'): 2, ('Ppl', 'A'): 1, ('Damn', '!'): 1, ('welcome', 'A'): 1, ('find', 'V'): 2, ('team', 'N'): 1, ('whoa', 'O'): 1, ('Keep', '@'): 2, ('sposed', 'R'): 1, ('meant', 'V'): 1, ('Tuesday', '^'): 1, ('@AtsLady', '@'): 1, ('Very', 'L'): 1, ('sign', 'V'): 1, ('huh', 'A'): 1, ('http://t.co/tl2HeqU', 'U'): 1, ('these', 'D'): 3, ('released', 'A'): 1, ('http://bit.ly/ce5Nvw', 'U'): 1, ('@vanessaangelcin', '@'): 1, ('cooking', 'V'): 1, ('naked', 'A'): 1, ('told', 'V'): 3, ('tonight', 'N'): 2, (\"ain't\", 'N'): 1, ('For', 'N'): 1, ('Halloween', 'N'): 1, ('Lucas', '^'): 1, (\"Let's\", 'N'): 1, ('thru', 'O'): 1, ('issues', 'V'): 1, ('Sum', 'L'): 1, ('seprate', 'N'): 1, ('her', '!'): 1, ('company', 'N'): 1, ('high', 'A'): 2, ('@syllableSlayer', '@'): 1, ('Such', 'N'): 1, ('sister', 'N'): 1, ('run', '^'): 1, ('Boutta', '^'): 1, ('6501', '$'): 1, ('thanks', 'N'): 3, ('views', 'N'): 2, ('Being', 'V'): 1, ('-', ','): 15, ('Twitter', 'G'): 1, ('condom', 'N'): 1, ('side', 'A'): 1, ('Ooh', 'G'): 1, ('working', 'V'): 1, ('Small', 'G'): 1, ('15', '^'): 1, ('Ajit', 'N'): 1, ('?????\"', ','): 1, ('@BennsWorld', '@'): 1, ('heaven', '^'): 1, ('tells', 'V'): 1, ('as', 'R'): 7, ('5', '$'): 3, ('via', 'P'): 3, ('U', 'O'): 2, ('#Offthysss', 'N'): 1, (';D', 'E'): 1, ('lmao', 'E'): 2, ('@daisystreet', '@'): 1, ('seriously', 'N'): 1, ('!\"', ','): 1, ('yard', 'O'): 1, ('guys', 'N'): 1, ('Grand', 'N'): 1, ('http://bit.ly/kOY0X', 'U'): 1, ('Gotham', '^'): 1, ('jumping', 'V'): 1, ('awwwwwwwwwwwwwwwwwwwww', '!'): 1, ('Slicer', '@'): 1, ('Change', 'V'): 2, ('still', 'R'): 9, ('memorial', 'N'): 1, ('cus', 'V'): 1, ('apple', 'N'): 1, ('free', 'A'): 1, ('cheating', 'G'): 1, ('term', 'N'): 1, ('Sigh', 'R'): 1, ('Once', 'R'): 1, ('obozo', 'R'): 1, ('personal', 'N'): 1, ('sun', 'N'): 1, ('Put', 'N'): 1, ('like', 'R'): 3, ('contact', 'N'): 1, ('curbstomping', 'V'): 1, ('cookies', 'N'): 1, ('any', 'D'): 1, ('making', 'V'): 1, ('odor', '^'): 1, ('judge', 'R'): 1, ('Hehehehehe', '!'): 1, ('Mikey', 'N'): 1, ('Darth', 'A'): 1, ('Chaser', 'N'): 1, ('TX', '^'): 1, ('rain', 'N'): 2, ('http://www.wikihow.com/Be-a-Flapper-Girl', 'U'): 1, ('@ddemby5', '@'): 1, ('@brittteague', '@'): 1, ('see', 'V'): 7, (\"ain't\", 'V'): 2, ('wud', 'L'): 1, ('@CupTheseCakes', '@'): 1, ('comin', 'P'): 1, ('dang', 'G'): 1, ('ya', '!'): 1, ('drys', 'V'): 1, ('public', 'A'): 1, ('breaking', 'V'): 1, ('HiT', 'V'): 1, ('Lol', '!'): 3, ('Startups', 'N'): 1, (';-)', 'E'): 2, ('SMH', 'G'): 1, ('Quinn', 'A'): 1, ('WORLD', 'V'): 1, ('Chief', 'A'): 1, ('Online', '$'): 1, ('Antlers', 'N'): 1, ('cause', 'V'): 1, ('Caffeine', 'N'): 1, ('1200', '$'): 1, (':-P', 'E'): 1, ('them', 'D'): 1, ('@jenjen_tx', '@'): 1, ('realrap', 'N'): 1, ('http://tinyurl.com/262adme', 'U'): 1, ('bitch', 'N'): 2, ('BROS', '^'): 1, ('Frame', 'P'): 1, ('J', '^'): 1, ('@NickiMinaj', '@'): 1, ('stealing', 'V'): 1, ('Stanganelli', '^'): 1, ('lmao', '!'): 7, ('Anything', 'N'): 1, ('Dear', '^'): 1, ('same', 'A'): 1, ('Girl', 'N'): 1, ('@adammc123', '@'): 1, ('selena', '^'): 1, ('80%', '^'): 1, ('ME', 'N'): 1, ('@KimKardashian', '@'): 1, ('nd', '&'): 2, ('follow', 'N'): 1, ('$', ','): 1, ('Nicki', '^'): 1, ('Hosted', 'N'): 1, ('Honestly', 'R'): 1, ('toooo', 'R'): 1, ('@Mr_DaiN', '@'): 1, (\"there's\", 'D'): 1, ('Simple', 'N'): 1, ('FA', 'N'): 1, ('commercial', 'N'): 2, ('@iTS_TRiCiE', '^'): 1, ('@DamCam_', '@'): 1, ('nap', 'N'): 1, ('BENCH', 'A'): 1, ('@MDoTMancini', '@'): 1, ('http://bit.ly/cAx1Ff', 'U'): 1, ('workers', 'N'): 1, ('LOL', '!'): 3, ('WHO', 'O'): 1, ('held', 'V'): 1, ('Entrada', '^'): 1, ('https://www.southwesternfg.com/order/', 'U'): 1, ('#SelenaGomez', 'L'): 1, ('rerun', 'N'): 1})"
       ]
      }
     ],
     "prompt_number": 42
    },
    {
     "cell_type": "code",
     "collapsed": false,
     "input": [],
     "language": "python",
     "metadata": {},
     "outputs": []
    }
   ],
   "metadata": {}
  }
 ]
}